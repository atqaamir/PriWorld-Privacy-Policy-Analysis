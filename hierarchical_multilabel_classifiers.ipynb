{
  "nbformat": 4,
  "nbformat_minor": 0,
  "metadata": {
    "colab": {
      "name": "hierarchical_multilabel_classifiers.ipynb",
      "version": "0.3.2",
      "provenance": [],
      "collapsed_sections": [],
      "include_colab_link": true
    },
    "kernelspec": {
      "name": "python3",
      "display_name": "Python 3"
    },
    "accelerator": "GPU"
  },
  "cells": [
    {
      "cell_type": "markdown",
      "metadata": {
        "id": "view-in-github",
        "colab_type": "text"
      },
      "source": [
        "<a href=\"https://colab.research.google.com/github/atqaamir/PriWorld-Privacy-Policy-Analysis/blob/hierarchical_multilabel_classification/hierarchical_multilabel_classifiers.ipynb\" target=\"_parent\"><img src=\"https://colab.research.google.com/assets/colab-badge.svg\" alt=\"Open In Colab\"/></a>"
      ]
    },
    {
      "metadata": {
        "id": "mVCeBUJ6CYDD",
        "colab_type": "code",
        "outputId": "03d8585f-abff-48e8-8f9c-3b3b6538239b",
        "colab": {
          "base_uri": "https://localhost:8080/",
          "height": 34
        }
      },
      "cell_type": "code",
      "source": [
        "!pip install lxml\n",
        "\n",
        "import bs4\n",
        "import bs4.builder._lxml\n",
        "bs4.builder.register_treebuilders_from(bs4.builder._lxml)\n"
      ],
      "execution_count": 3,
      "outputs": [
        {
          "output_type": "stream",
          "text": [
            "Requirement already satisfied: lxml in /usr/local/lib/python3.6/dist-packages (4.2.6)\n"
          ],
          "name": "stdout"
        }
      ]
    },
    {
      "metadata": {
        "id": "8cBtJTJ--Xgr",
        "colab_type": "code",
        "outputId": "c1becbcf-c93a-4a93-dd10-1ef180850c1a",
        "colab": {
          "base_uri": "https://localhost:8080/",
          "height": 68
        }
      },
      "cell_type": "code",
      "source": [
        "import bs4\n",
        "import keras\n",
        "from google.colab import files\n",
        "from __future__ import print_function\n",
        "from keras.preprocessing.image import ImageDataGenerator\n",
        "from keras.layers import Conv2D, MaxPooling2D , Conv2DTranspose#, Conv2DTranspose\n",
        "from keras.utils import np_utils\n",
        "from keras.preprocessing.text import Tokenizer\n",
        "from keras.preprocessing.sequence import pad_sequences\n",
        "from keras.models import Sequential\n",
        "from keras.layers import Dense, Flatten, LSTM, Conv1D, MaxPooling1D, Dropout, Activation\n",
        "from keras.layers.embeddings import Embedding\n",
        "from keras.layers import Input, Dense\n",
        "from keras.models import Model\n",
        "\n",
        "import nltk\n",
        "nltk.download('wordnet')\n",
        "from nltk.stem import WordNetLemmatizer\n",
        "import os\n",
        "import csv\n",
        "import pandas as pd\n",
        "import io\n",
        "from skimage import io\n",
        "import numpy as np\n",
        "\n",
        "import re\n",
        "\n",
        "from keras.preprocessing.text import Tokenizer\n",
        "from keras.preprocessing.sequence import pad_sequences\n",
        "from keras.utils import to_categorical\n",
        "from keras.models import Sequential, load_model\n",
        "from keras.layers import Dense, Embedding, LSTM, Flatten, Dropout, Conv1D, Conv2D\n",
        "from keras import optimizers\n",
        "from keras.models import load_model\n",
        "import json, argparse, os\n",
        "import re\n",
        "import io\n",
        "import sys\n",
        "\n",
        "\n",
        "import re\n",
        "import pandas as pd\n",
        "# import emoji\n",
        "from sklearn.model_selection import train_test_split\n",
        "# from autocorrect import spell\n",
        "from collections import defaultdict\n",
        "import string\n",
        "import nltk\n",
        "# from nltk.corpus import stopwords\n",
        "# nltk.download('stopwords')"
      ],
      "execution_count": 4,
      "outputs": [
        {
          "output_type": "stream",
          "text": [
            "Using TensorFlow backend.\n"
          ],
          "name": "stderr"
        },
        {
          "output_type": "stream",
          "text": [
            "[nltk_data] Downloading package wordnet to /root/nltk_data...\n",
            "[nltk_data]   Unzipping corpora/wordnet.zip.\n"
          ],
          "name": "stdout"
        }
      ]
    },
    {
      "metadata": {
        "id": "X_s9T7RW_RTM",
        "colab_type": "code",
        "outputId": "115df544-e0f7-4241-cfb8-82f943c5c5f8",
        "colab": {
          "base_uri": "https://localhost:8080/",
          "height": 122
        }
      },
      "cell_type": "code",
      "source": [
        "from google.colab import drive\n",
        "drive.mount('/content/drive',force_remount=True)"
      ],
      "execution_count": 5,
      "outputs": [
        {
          "output_type": "stream",
          "text": [
            "Go to this URL in a browser: https://accounts.google.com/o/oauth2/auth?client_id=947318989803-6bn6qk8qdgf4n4g3pfee6491hc0brc4i.apps.googleusercontent.com&redirect_uri=urn%3Aietf%3Awg%3Aoauth%3A2.0%3Aoob&scope=email%20https%3A%2F%2Fwww.googleapis.com%2Fauth%2Fdocs.test%20https%3A%2F%2Fwww.googleapis.com%2Fauth%2Fdrive%20https%3A%2F%2Fwww.googleapis.com%2Fauth%2Fdrive.photos.readonly%20https%3A%2F%2Fwww.googleapis.com%2Fauth%2Fpeopleapi.readonly&response_type=code\n",
            "\n",
            "Enter your authorization code:\n",
            "··········\n",
            "Mounted at /content/drive\n"
          ],
          "name": "stdout"
        }
      ]
    },
    {
      "metadata": {
        "id": "6EJbhLcc_WUC",
        "colab_type": "code",
        "outputId": "5f801414-f8fb-4d16-88bc-c1a4f2ca348f",
        "colab": {
          "base_uri": "https://localhost:8080/",
          "height": 136
        }
      },
      "cell_type": "code",
      "source": [
        "!ls \"/content/drive/My Drive\""
      ],
      "execution_count": 6,
      "outputs": [
        {
          "output_type": "stream",
          "text": [
            " A2_SarahShams_i150097.ipynb\t   SE\n",
            " AI\t\t\t\t   Snapchat-88614669.jpg\n",
            " AItest.csv\t\t\t   ss\n",
            " Assignment+Not+1+_search_.ipynb   Uni\n",
            "'Colab Notebooks'\t\t   Untitled0.ipynb\n",
            " DEEP\t\t\t\t   winequality-red.csv\n",
            " FYP\t\t\t\t   winequality-white.csv\n"
          ],
          "name": "stdout"
        }
      ]
    },
    {
      "metadata": {
        "id": "0m7_YmT9-XhC",
        "colab_type": "code",
        "colab": {}
      },
      "cell_type": "code",
      "source": [
        "def extract_pp(filename,fformat = \"lxml\"):\n",
        "    \"\"\"\n",
        "      Given a file name for baby.html, returns a list starting with the year string\n",
        "      followed by the name-rank strings in alphabetical order.\n",
        "      ['2006', 'Aaliyah 91', Aaron 57', 'Abagail 895', ' ...]\n",
        "    \"\"\"\n",
        "    name = []\n",
        "    with open(filename) as f:\n",
        "        website_html  = f.read()\n",
        "    html = bs4.BeautifulSoup( website_html,fformat)\n",
        "        \n",
        "    return html\n",
        "    "
      ],
      "execution_count": 0,
      "outputs": []
    },
    {
      "metadata": {
        "id": "AwUS57uF_i3M",
        "colab_type": "code",
        "outputId": "176c5cc3-cbed-4804-9ac9-dd15d0c8b4fe",
        "colab": {
          "base_uri": "https://localhost:8080/",
          "height": 34
        }
      },
      "cell_type": "code",
      "source": [
        "import os\n",
        "\n",
        "path = \"/content/drive/My Drive/FYP/Final Year Project Code/annotations\"\n",
        "dirs = os.listdir( path )\n",
        "dirs[:2]"
      ],
      "execution_count": 8,
      "outputs": [
        {
          "output_type": "execute_result",
          "data": {
            "text/plain": [
              "['1017_sci-news.com.csv', '1034_aol.com.csv']"
            ]
          },
          "metadata": {
            "tags": []
          },
          "execution_count": 8
        }
      ]
    },
    {
      "metadata": {
        "id": "QMWA53C3-XhS",
        "colab_type": "code",
        "outputId": "617b630d-15dd-4ec1-f6ba-c2511c007baa",
        "colab": {
          "base_uri": "https://localhost:8080/",
          "height": 34
        }
      },
      "cell_type": "code",
      "source": [
        "from os import listdir\n",
        "from os.path import isfile, join\n",
        "onlyfiles = [f for f in listdir(\"/content/drive/My Drive/FYP/Final Year Project Code/sanitized_policies\") if isfile(join(\"/content/drive/My Drive/FYP/Final Year Project Code/sanitized_policies\", f))]\n",
        "onlyfiles[:2]"
      ],
      "execution_count": 9,
      "outputs": [
        {
          "output_type": "execute_result",
          "data": {
            "text/plain": [
              "['1017_sci-news.com.html', '105_amazon.com.html']"
            ]
          },
          "metadata": {
            "tags": []
          },
          "execution_count": 9
        }
      ]
    },
    {
      "metadata": {
        "id": "xY4TXcef-Xhv",
        "colab_type": "code",
        "colab": {}
      },
      "cell_type": "code",
      "source": [
        "from nltk import word_tokenize"
      ],
      "execution_count": 0,
      "outputs": []
    },
    {
      "metadata": {
        "id": "v3SH45jKBrdR",
        "colab_type": "code",
        "colab": {}
      },
      "cell_type": "code",
      "source": [
        "# !ls \"/content/drive/My Drive/FYP/Final Year Project Code/sanitized_policies\""
      ],
      "execution_count": 0,
      "outputs": []
    },
    {
      "metadata": {
        "id": "ia9Ul8NS-Xj7",
        "colab_type": "code",
        "outputId": "1b131d74-ea68-46e4-e051-ed546c23e80e",
        "colab": {
          "base_uri": "https://localhost:8080/",
          "height": 34
        }
      },
      "cell_type": "code",
      "source": [
        "directory = dict()\n",
        "for dir in dirs:\n",
        "  directory[re.sub(\"[\\d]+_|.csv\",\"\",dir)] = \"/content/drive/My Drive/FYP/Final Year Project Code/annotations/\"+dir\n",
        "directory[list(directory.keys())[0]]"
      ],
      "execution_count": 12,
      "outputs": [
        {
          "output_type": "execute_result",
          "data": {
            "text/plain": [
              "'/content/drive/My Drive/FYP/Final Year Project Code/annotations/1017_sci-news.com.csv'"
            ]
          },
          "metadata": {
            "tags": []
          },
          "execution_count": 12
        }
      ]
    },
    {
      "metadata": {
        "id": "2HMeux6i-Xkz",
        "colab_type": "code",
        "colab": {}
      },
      "cell_type": "code",
      "source": [
        "from collections import defaultdict"
      ],
      "execution_count": 0,
      "outputs": []
    },
    {
      "metadata": {
        "id": "aSlVghbn4YzJ",
        "colab_type": "code",
        "colab": {}
      },
      "cell_type": "code",
      "source": [
        "defineCategories = str(extract_pp ('/content/drive/My Drive/FYP/Final Year Project Code/categories-july30.xml',\"xml\"))"
      ],
      "execution_count": 0,
      "outputs": []
    },
    {
      "metadata": {
        "id": "PPmCxc-aVLMD",
        "colab_type": "code",
        "outputId": "c6744c4c-9001-4ab4-fa7a-22c225366255",
        "colab": {
          "base_uri": "https://localhost:8080/",
          "height": 54
        }
      },
      "cell_type": "code",
      "source": [
        "defineCategories"
      ],
      "execution_count": 15,
      "outputs": [
        {
          "output_type": "execute_result",
          "data": {
            "text/plain": [
              "'<?xml version=\"1.0\" encoding=\"utf-8\"?>\\n<categories xmlns=\"http://www.w3schools.com\" xmlns:xsi=\"http://www.w3.org/2001/XMLSchema-instance\" xsi:schemaLocation=\"annotation.xsd\">\\n<version>20151115-01</version>\\n<category>\\n<name>First Party Collection/Use</name>\\n<description> Privacy practice describing data collection or data use by the company/organization owning the website or mobile app.</description>\\n<attributes>\\n<attribute color=\"#999999\" default=\"Does\" optional=\"true\">\\n<name>Does/Does Not</name>\\n<description>Use this optional attribute to denote if the policy explicitly states that something is NOT done. Defaults to Does.</description>\\n<values>\\n<value>\\n<name>Does</name>\\n<description>The first party does engage in the described practice.</description>\\n</value>\\n<value>\\n<name>Does Not</name>\\n<description>The first party does not engage in the described practice.</description>\\n</value>\\n</values>\\n</attribute>\\n<attribute color=\"#CCCCCC\" default=\"not-selected\" optional=\"true\">\\n<name>Collection Mode</name>\\n<description>Use this optional attribute to denote if the data collection performed by the first party is implicit (e.g., company collects information without user\\'s explicit awareness) or explicit (e.g., user provides information). Defaults to “not selected.”</description>\\n<values>\\n<value>\\n<name>Explicit</name>\\n<description>The company/organization collects or uses information that the user explicitly provides, e.g., the user enters information in a web form.</description>\\n</value>\\n<value>\\n<name>Implicit</name>\\n<description>The company/organization collects or uses information that the user does not explicitly provide, e.g., data is collected or transferred automatically in the background. The user may or may not have given consent to such implicit collection/use.</description>\\n</value>\\n<value>\\n<name>Unspecified</name>\\n<description>It is not specified or unclear whether the information is collected explicitly or implicitly.</description>\\n</value>\\n</values>\\n</attribute>\\n<attribute color=\"#CC9900\" optional=\"false\">\\n<name>Action First-Party</name>\\n<description>How does the first party collect, track, or obtain user information?</description>\\n<values>\\n<value>\\n<name>Collect on website</name>\\n<description>The company/organization collects user information directly on the website.</description>\\n</value>\\n<value>\\n<name>Collect in mobile app</name>\\n<description>The company/organization has a mobile app and it collects user information through that platform.</description>\\n</value>\\n<value>\\n<name>Collect on mobile website</name>\\n<description>The company/organization has a mobile version of its website through which it collects user information. This value is only needed if the policy explicitly distinguishes between its normal and mobile websites.</description>\\n</value>\\n<value>\\n<name>Track user on other websites</name>\\n<description>The company/organization tracks its users’ activities when they visit other websites, typically without the user being aware of it.</description>\\n</value>\\n<value>\\n<name>Collect from user on other websites</name>\\n<description>This company/organization (the first party) has a widget or element on other websites, in which the user can explicitly provide data to the first party while being on the other website. For example, Facebook users can comment on news or other content on different websites and Facebook collects that data.</description>\\n</value>\\n<value>\\n<name>Receive from other parts of company/affiliates</name>\\n<description>The company/organization is part of a family of companies/organizations or has subsidiaries (e.g., physical store, other websites that belong to same company). It receives user information from those other units.</description>\\n</value>\\n<value>\\n<name>Receive from other service/third-party (unnamed)</name>\\n<description>The company/organization receives user information from an unnamed third-party (e.g., the policy just speaks of “data brokers” or \"partners\" in the abstract).</description>\\n</value>\\n<value>\\n<name>Receive from other service/third-party (named)</name>\\n<description>The company/organization acquires user information from a third party that is explicitly named (e.g., Facebook when the user signs in using Facebook account; or a specific \"partner\").</description>\\n</value>\\n<value>\\n<name>Other</name>\\n<description>The specified type of collection is not covered by the options above.</description>\\n</value>\\n<value>\\n<name>Unspecified</name>\\n<description>The type of collection is not specified or unclear, e.g., “We collect your personal information” without further specification whether the collection occurs on a website, an app, offline, etc.</description>\\n</value>\\n</values>\\n</attribute>\\n<attribute color=\"#9999FF\" default=\"not-selected\" optional=\"true\">\\n<name>Identifiability</name>\\n<description>Use this optional attribute if it is explicitly stated whether the information or data practice is linked to the user\\'s identity or if it is anonymous. Defaults to \"not selected.\"</description>\\n<values>\\n<value>\\n<name>Identifiable</name>\\n<description>It is explicitly stated that the information/data practice is linked to the user\\'s identity.</description>\\n</value>\\n<value>\\n<name>Aggregated or anonymized</name>\\n<description>The collected data is anonymized (e.g., link to user\\'s identity is removed) or aggregated (e.g., merged with other users\\' information so that it is not possible to uniquely identify a single user).</description>\\n</value>\\n<value>\\n<name>Other</name>\\n<description>The practice makes an explicit statement about identifiability that is not covered by the options above.</description>\\n</value>\\n<value>\\n<name>Unspecified</name>\\n<description>It’s not explicitly stated or unclear if the information/data practice is linked to the user\\'s identity.</description>\\n</value>\\n</values>\\n</attribute>\\n<attribute color=\"#0000FF\" optional=\"false\">\\n<name>Personal Information Type</name>\\n<description> What category of information is collected or tracked by the company/organization?</description>\\n<values>\\n<value>\\n<name>Financial</name>\\n<description>Financial information, such as credit/debit card data, other payment information, credit scores, etc.</description>\\n</value>\\n<value>\\n<name>Health</name>\\n<description>Health Information, such as information about health conditions, prescriptions, medication, as well as health monitoring data, e.g., heart rate, step count, activity level, etc.</description>\\n</value>\\n<value>\\n<name>Contact</name>\\n<description>Contact Information, such as name, email address, phone number, street address, etc.</description>\\n</value>\\n<value>\\n<name>Location</name>\\n<description>Geo-location information (e.g., user\\'s current location) regardless of granularity, i.e., could be exact location, ZIP code, city-level.</description>\\n</value>\\n<value>\\n<name>Demographic</name>\\n<description>Demographic Information, e.g., gender, age, occupation, education, etc.</description>\\n</value>\\n<value>\\n<name>Personal identifier</name>\\n<description>Identifiers that uniquely identify a person,e.g., SSN, driver\\'s license number, etc.</description>\\n</value>\\n<value>\\n<name>User online activities</name>\\n<description>The user\\'s online activities on the first party website/app or other websites/apps, e.g., pages visited, time spent on pages, general user behavior online, etc.</description>\\n</value>\\n<value>\\n<name>User profile</name>\\n<description>The user’s profile on the first-party website/app and its contents, e.g., data in user profile, data that user uploaded to website, user comments, user profile preferences, etc. This is common for websites/apps where users can create an account or profile, e.g., on twitter, youtube, Facebook, Amazon, etc.</description>\\n</value>\\n<value>\\n<name>Social media data</name>\\n<description>User profile and data from a social media website/app or other third party service to which the user gave the first party access, e.g., by connecting with Facebook, twitter, or other services. Exchanged data may include user profile, photos, comments, friends, etc.</description>\\n</value>\\n<value>\\n<name>IP address and device IDs</name>\\n<description>Permanent (e.g., device IDs, MAC address) or temporary (e.g., IP address) identifiers needed to establish a connection for the current browsing session.</description>\\n</value>\\n<value>\\n<name>Cookies and tracking elements</name>\\n<description>Identifiers locally stored on user\\'s device by the company/organization or third-parties including cookies, beacons, or similar that are commonly used to uniquely identify users, but that are not essential to establish a connection with the user’s device or to provide a service.</description>\\n</value>\\n<value>\\n<name>Computer information</name>\\n<description>The type of operating system (OS) or web browser that the user uses, or similar computer or device information.</description>\\n</value>\\n<value>\\n<name>Survey data</name>\\n<description>Any data that is collected through surveys</description>\\n</value>\\n<value>\\n<name>Generic personal information</name>\\n<description>No specific type of information is mentioned, but the policy talks about “personal information” or “personal identifiable information” in general.</description>\\n</value>\\n<value>\\n<name>Other</name>\\n<description>A specific type of information not covered by the above categories.</description>\\n</value>\\n<value>\\n<name>Unspecified</name>\\n<description>The type of information is not explicitly stated or unclear (e.g., refers to \"information\" very generically).</description>\\n</value>\\n</values>\\n</attribute>\\n<attribute color=\"#336633\" optional=\"false\">\\n<name>Purpose</name>\\n<description>What is the purpose of collecting or using user information?</description>\\n<values>\\n<value>\\n<name>Basic service/feature</name>\\n<description>Provide a service that the user explicitly requests and that is part of the website/app\\'s basic service or functionality. Examples are watching a video, reading an article, making a purchase, creating an account, contacting the company, etc.</description>\\n</value>\\n<value>\\n<name>Additional service/feature</name>\\n<description>Provide a service that the user explicitly requests but that is not a necessary part of the website/app\\'s basic service. Additional services/features may enhance user experience or add convenience but require additional data, e.g., social media integration, comments, blog participation, a store finder that needs location information, etc.</description>\\n</value>\\n<value>\\n<name>Advertising</name>\\n<description>To show ads that are either targeted to the specific user or not targeted.</description>\\n</value>\\n<value>\\n<name>Marketing</name>\\n<description>To contact the user to offer products,services, or other promotions (e.g., send marketing emails, calling or texting user with marketing messages). Marketing typically requires the use of contact information.</description>\\n</value>\\n<value>\\n<name>Analytics/Research</name>\\n<description>For understanding the website/app’s audience, improving the website/app, inform company strategy, or general research.</description>\\n</value>\\n<value>\\n<name>Personalization/Customization</name>\\n<description>For providing user with a personalized experience, e.g., by allowing to arrange how the website/app looks, based on the user’s preferences or language, etc.</description>\\n</value>\\n<value>\\n<name>Service Operation and Security</name>\\n<description>For website/app operation and security, enforcement of terms of service, fraud prevention, protecting users and property, etc.</description>\\n</value>\\n<value>\\n<name>Legal requirement</name>\\n<description>For compliance with legal obligations, e.g., regulations, government data requests, government retention requests, law enforcement requests in general, etc.</description>\\n</value>\\n<value>\\n<name>Merger/Acquisition</name>\\n<description>If company/organization merges or is acquired it transfers users\\' information to another company/organization.</description>\\n</value>\\n<value>\\n<name>Other</name>\\n<description>Other specific purpose not covered above.</description>\\n</value>\\n<value>\\n<name>Unspecified</name>\\n<description>The purpose is not explicitly stated or is unclear.</description>\\n</value>\\n</values>\\n</attribute>\\n<attribute color=\"#FF00FF\" default=\"not-selected\" optional=\"true\">\\n<name>User Type</name>\\n<description>Use this optional attribute if this practice applies specifically to users with an account or users without an account.</description>\\n<values>\\n<value>\\n<name>User without account</name>\\n<description>This data practice specifically applies to users that do not have an account or are not registered with the website or mobile app.</description>\\n</value>\\n<value>\\n<name>User with account</name>\\n<description>This data practice specifically applies to users with an account or who are registered with the website or mobile app.</description>\\n</value>\\n<value>\\n<name>Other</name>\\n<description>This data practice applies to a specific user type not covered by the options above.</description>\\n</value>\\n<value>\\n<name>Unspecified</name>\\n<description>It is not specified whether this practice applies to users with or without account.</description>\\n</value>\\n</values>\\n</attribute>\\n<attribute color=\"#993333\" default=\"not-selected\" optional=\"true\">\\n<name>Choice Type</name>\\n<description>Use this optional attribute if user choices are explicitly offered for this practice. Defaults to “not selected.”</description>\\n<values>\\n<value>\\n<name>Dont use service/feature</name>\\n<description>Only option is not to use the feature or service. Only select this if explicitly stated in policy (i.e., don\\'t interpret silence as \"Don\\'t use website or feature\").</description>\\n</value>\\n<value>\\n<name>Opt-in</name>\\n<description>User must consent before data can be collected or used by first party.</description>\\n</value>\\n<value>\\n<name>Opt-out link</name>\\n<description>Link provided in privacy policy, on website, in mobile app, or in email, etc.</description>\\n</value>\\n<value>\\n<name>Opt-out via contacting company</name>\\n<description>Must contact company via email, phone, or postal mail to opt-out.</description>\\n</value>\\n<value>\\n<name>First-party privacy controls</name>\\n<description>Website/app provides user settings for privacy configuration.</description>\\n</value>\\n<value>\\n<name>Third-party privacy controls</name>\\n<description>Choices provided by a third party (e.g., privacy settings on social media site) or industry (e.g., AdChoices Opt-out).</description>\\n</value>\\n<value>\\n<name>Browser/device privacy controls</name>\\n<description>Policy suggests the use of browser or mobile device’s privacy settings, e.g., to block trackers or cookies, activate Do-Not-Track, disable location sharing, clear history, etc.</description>\\n</value>\\n<value>\\n<name>Other</name>\\n<description>Other specific user choice or control option not captured above.</description>\\n</value>\\n<value>\\n<name>Unspecified</name>\\n<description>No user choices mentioned for this practice.</description>\\n</value>\\n</values>\\n</attribute>\\n<attribute color=\"#CC4444\" default=\"not-selected\" optional=\"true\">\\n<name>Choice Scope</name>\\n<description>Use this optional attribute to indicate the scope of user choices. In some cases, even if user choices are not clear or specific, this attribute can be selected. Defaults to “not selected.”</description>\\n<values>\\n<value>\\n<name>Collection</name>\\n<description>Choices apply to collection only.</description>\\n</value>\\n<value>\\n<name>Use</name>\\n<description>Choices apply to use only.</description>\\n</value>\\n<value>\\n<name>Both</name>\\n<description>Choices apply to both collection and use.</description>\\n</value>\\n<value>\\n<name>Unspecified</name>\\n<description>No specific scope of choices is mentioned.</description>\\n</value>\\n</values>\\n</attribute>\\n</attributes>\\n</category>\\n<category>\\n<name>Third Party Sharing/Collection</name>\\n<description>Privacy practice describing data sharing with third parties or data collection by third parties. A third party is a company/organization other than the first party  company/organization that owns the website or mobile app.</description>\\n<attributes>\\n<attribute color=\"#336699\" optional=\"false\">\\n<name>Third Party Entity</name>\\n<description>The third-party involved in the data practice.</description>\\n<values>\\n<value>\\n<name>Unnamed third party</name>\\n<description>The third party is not explicitly named, i.e., it is just generically referred to as \"third-party,\" \"partner,\" or similar.</description>\\n</value>\\n<value>\\n<name>Named third party</name>\\n<description>The third party is explicitly named (e.g. Facebook) or at least characterized (e.g., “advertising partner” or “data broker”).</description>\\n</value>\\n<value>\\n<name>Other part of company/affiliate</name>\\n<description>Data is made available to other parts of the company/organization, e.g., it is shared with other services, apps, or websites operated by the company, could also be data exchange between online and offline company units (e.g. physical stores).</description>\\n</value>\\n<value>\\n<name>Other users</name>\\n<description>The third-party involved are other users of the first party website or mobile app.</description>\\n</value>\\n<value>\\n<name>Public</name>\\n<description>User information is made public or can be obtained from public sources.</description>\\n</value>\\n<value>\\n<name>Other</name>\\n<description>Other specific third-party entity not covered above.</description>\\n</value>\\n<value>\\n<name>Unspecified</name>\\n<description>The third-party entity is not specified. This is uncommon, \"unnamed third-party\" will likely be the right value instead.</description>\\n</value>\\n</values>\\n</attribute>\\n<attribute color=\"#999999\" default=\"Does\" optional=\"true\">\\n<name>Does/Does Not</name>\\n<description>Use this optional attribute to denote if the policy explicitly states that something is NOT done. Defaults to Does.</description>\\n<values>\\n<value>\\n<name>Does</name>\\n<description>The third party does engage in the described practice.</description>\\n</value>\\n<value>\\n<name>Does Not</name>\\n<description>The third party does not engage in the described practice.</description>\\n</value>\\n</values>\\n</attribute>\\n<attribute color=\"#CC9900\" optional=\"false\">\\n<name>Action Third Party</name>\\n<description>How does the third-party receive, collect, track, or see user information.</description>\\n<values>\\n<value>\\n<name>Receive/Shared with</name>\\n<description>The third party receives information from the first party. (i.e., the first party explicitly shares data with third-party)</description>\\n</value>\\n<value>\\n<name>Collect on first party website/app</name>\\n<description>The third party explicitly collects data from users on the first party website/app, e.g., by functionality on the website/app that allows users to directly provide information to the third party, such as social media sharing buttons or commenting forms.</description>\\n</value>\\n<value>\\n<name>Track on first party website/app</name>\\n<description>The third party implicitly collects data about users directly on the first party website/app, typically without the user being aware of it, e.g., by tracking users with cookies, beacons, third party ad libraries, or other functionality.</description>\\n</value>\\n<value>\\n<name>See</name>\\n<description>Third-party can see user information that is publicly available either on the website/app or somewhere else. Remember, a third-party can be another user of the website/app. The difference to “receive” is that the information is available but not explicitly given to a specific third party.</description>\\n</value>\\n<value>\\n<name>Other</name>\\n<description>How the third party collects or receives user information is specified in the policy but it is not covered by the options above.</description>\\n</value>\\n<value>\\n<name>Unspecified</name>\\n<description>The type of collection is not specified or unclear, e.g., “Our outside partners collect your personal information” without further specification whether the collection occurs on a website, app, offline, etc.</description>\\n</value>\\n</values>\\n</attribute>\\n<attribute color=\"#9999FF\" default=\"not-selected\" optional=\"true\">\\n<name>Identifiability</name>\\n<description>Use this optional attribute if if it is explicitly stated whether the information or data practice is linked to the user\\'s identity or if it is anonymous. Defaults to \"not selected.\"</description>\\n<values>\\n<value>\\n<name>Identifiable</name>\\n<description>It is explicitly stated that the information/data practice is linked to the user\\'s identity.</description>\\n</value>\\n<value>\\n<name>Aggregated or anonymized</name>\\n<description>The collected data is anonymized (e.g., link to user\\'s identity is removed) or aggregated (e.g., merged with other users\\' information so that it is not possible to uniquely identify a single user).</description>\\n</value>\\n<value>\\n<name>Other</name>\\n<description>The policy makes an explicit statement about identifiability that is not covered by the options above.</description>\\n</value>\\n<value>\\n<name>Unspecified</name>\\n<description>It is not explicitly stated or unclear if the information/data practice is linked to the user\\'s identity.</description>\\n</value>\\n</values>\\n</attribute>\\n<attribute color=\"#0000FF\" optional=\"false\">\\n<name>Personal Information Type</name>\\n<description>What category of information is shared with, collected by or otherwise obtained by the third-party.</description>\\n<values>\\n<value>\\n<name>Financial</name>\\n<description>Financial information, e.g., credit/debit card data, other payment information, credit scores, etc.</description>\\n</value>\\n<value>\\n<name>Health</name>\\n<description>Health Information, such as information about health conditions, prescriptions, medication, as well as health monitoring data, e.g., heart rate, step count, activity level, etc.</description>\\n</value>\\n<value>\\n<name>Contact</name>\\n<description>Contact Information, e.g., name, email address, phone number, street address, etc.</description>\\n</value>\\n<value>\\n<name>Location</name>\\n<description>Geo-location information (e.g., user\\'s current location) regardless of granularity, i.e., could be exact location, ZIP code, city-level.</description>\\n</value>\\n<value>\\n<name>Demographic</name>\\n<description>Demographic Information, e.g., gender, age, occupation, education, etc.</description>\\n</value>\\n<value>\\n<name>Personal identifier</name>\\n<description>Identifiers that uniquely identify a person,e.g., SSN, driver\\'s license number, etc.</description>\\n</value>\\n<value>\\n<name>User online activities</name>\\n<description>The user’s online activities on the first party website/app or other websites/apps, e.g., pages visited, time spent on pages, general user behavior online, etc.</description>\\n</value>\\n<value>\\n<name>User Profile</name>\\n<description>The user’s profile on the first-party website/app and its contents, e.g., data in user profile, data that user uploaded to website/app, user comments, user profile preferences, etc. This is common for websites/apps where users can create an account or profile, e.g., on twitter, youtube, Facebook, Amazon, etc.</description>\\n</value>\\n<value>\\n<name>IP address and device IDs</name>\\n<description>Permanent (e.g., device IDs, MAC address) or temporary (e.g., IP address) identifiers of the user device (e.g., computer, mobile device, etc.) needed to establish a connection for the current browsing session.</description>\\n</value>\\n<value>\\n<name>Cookies and tracking elements</name>\\n<description>Identifiers locally stored on user\\'s device by company/organization or third-parties including cookies, beacons, or similar that are commonly used to uniquely identify users, but that are not essential to establish a connection with the user’s device or to provide a service.</description>\\n</value>\\n<value>\\n<name>Computer information</name>\\n<description>The type of operating system (OS) or web browser that the user uses, or similar computer or device information.</description>\\n</value>\\n<value>\\n<name>Survey data</name>\\n<description>Any data that is collected through surveys.</description>\\n</value>\\n<value>\\n<name>Generic personal information</name>\\n<description>No specific type of information is mentioned, but the policy talks about “personal information” or “personal identifiable information” in general.</description>\\n</value>\\n<value>\\n<name>Other</name>\\n<description>A specific type of information not covered by the above categories.</description>\\n</value>\\n<value>\\n<name>Unspecified</name>\\n<description>The type of information is not explicitly stated or unclear (e.g., refers to \"information\" very generically).</description>\\n</value>\\n</values>\\n</attribute>\\n<attribute color=\"#336633\" optional=\"false\">\\n<name>Purpose</name>\\n<description>What is the purpose of a third party receiving or collecting user information?</description>\\n<values>\\n<value>\\n<name>Basic service/feature</name>\\n<description>Provide a service that user explicitly requests and that is part of website/app\\'s basic service or functionality. Examples are watching a video, reading an article, making a purchase, creating an account, contacting the company, etc.</description>\\n</value>\\n<value>\\n<name>Additional service/feature</name>\\n<description>Provide a service that the user explicitly requests but that is not a necessary part of the website/app\\'s basic service. Additional services/features may enhance user experience or add convenience but require additional data or sharing with third parties, e.g., social media integration, comments, blog participation, a store finder that needs location information, etc.</description>\\n</value>\\n<value>\\n<name>Advertising</name>\\n<description>To show ads that are either targeted to the specific user or not targeted.</description>\\n</value>\\n<value>\\n<name>Marketing</name>\\n<description>To contact the user to offer products, services, or other promotions (e.g., send marketing emails, calling or texting user with marketing messages). Marketing typically requires the use of contact information.</description>\\n</value>\\n<value>\\n<name>Analytics/Research</name>\\n<description>For understanding the website/app’s audience, improving the website/app, inform company strategy, or general research.</description>\\n</value>\\n<value>\\n<name>Personalization/Customization</name>\\n<description>For providing user with a personalized experience, e.g., by allowing to arrange how the website/app looks, based on the user’s preferences or language, etc.</description>\\n</value>\\n<value>\\n<name>Service operation and security</name>\\n<description>For website/app operation and security, enforcement of terms of service, fraud prevention, protecting users and property, etc.</description>\\n</value>\\n<value>\\n<name>Legal requirement</name>\\n<description>For compliance with legal obligations, e.g., regulations, government data requests, government retention requests, law enforcement requests in general, etc.</description>\\n</value>\\n<value>\\n<name>Merger/Acquisition</name>\\n<description>If company/organization merges or is acquired it transfers users\\' information to another company/organization.</description>\\n</value>\\n<value>\\n<name>Other</name>\\n<description>Other specific purpose not covered above.</description>\\n</value>\\n<value>\\n<name>Unspecified</name>\\n<description>The purpose is not explicitly stated or is unclear.</description>\\n</value>\\n</values>\\n</attribute>\\n<attribute color=\"#FF00FF\" default=\"not-selected\" optional=\"true\">\\n<name>User Type</name>\\n<description>Use this optional attribute if this practice applies specifically to users with an account or users without an account.</description>\\n<values>\\n<value>\\n<name>User without account</name>\\n<description>This data practice specifically applies to users that do not have an account or are not registered with the website or mobile app.</description>\\n</value>\\n<value>\\n<name>User with account</name>\\n<description>This data practice specifically applies to users with an account or who are registered with the website or mobile app.</description>\\n</value>\\n<value>\\n<name>Other</name>\\n<description>This data practice applies to a specific user type not covered by the options above.</description>\\n</value>\\n<value>\\n<name>Unspecified</name>\\n<description>It is not specified whether this practice applies to users with or without account.</description>\\n</value>\\n</values>\\n</attribute>\\n<attribute color=\"#993333\" default=\"not-selected\" optional=\"true\">\\n<name>Choice Type</name>\\n<description>Use this optional attribute if user choices are explicitly offered for this practice. Defaults to “not selected.”\\n</description>\\n<values>\\n<value>\\n<name>Dont use service/feature</name>\\n<description>Only option is not to use the feature or service. Only select this if explicitly stated in policy (i.e., don\\'t interpret silence as \"Don\\'t use website or feature\").</description>\\n</value>\\n<value>\\n<name>Opt-in</name>\\n<description>User must consent before data can be shared with or collected/used by third party.</description>\\n</value>\\n<value>\\n<name>Opt-out link</name>\\n<description>Link provided in privacy policy, on website, in mobile app, or in email, etc.</description>\\n</value>\\n<value>\\n<name>Opt-out via contacting company</name>\\n<description>Must contact company/organization via email, phone, postal mail to opt-out.</description>\\n</value>\\n<value>\\n<name>First-party privacy controls</name>\\n<description>Website/app provides user settings for privacy configuration.</description>\\n</value>\\n<value>\\n<name>Third-party privacy controls</name>\\n<description>Choices provided by a third party (e.g., privacy settings on social media site) or industry (e.g., AdChoices Opt-out).</description>\\n</value>\\n<value>\\n<name>Browser/device privacy controls</name>\\n<description>Policy suggests the use of browser’s or mobile device’s privacy settings, e.g., to block trackers or cookies, activate Do-Not-Track, disable location sharing, clear history, etc.</description>\\n</value>\\n<value>\\n<name>Other</name>\\n<description>Other specific user choice or control option not captured above.</description>\\n</value>\\n<value>\\n<name>Unspecified</name>\\n<description>No user choices mentioned for this practice.</description>\\n</value>\\n</values>\\n</attribute>\\n<attribute color=\"#CC4444\" default=\"not-selected\" optional=\"true\">\\n<name>Choice Scope</name>\\n<description>Use this optional attribute to indicate the scope of user choices. In some cases, even if user choices are not clear or specific, this attribute can be selected. Defaults to “not selected.”</description>\\n<values>\\n<value>\\n<name>Collection</name>\\n<description>Choices apply to collection by or sharing with third party only.</description>\\n</value>\\n<value>\\n<name>Use</name>\\n<description>Choices apply to use by third party only.</description>\\n</value>\\n<value>\\n<name>Both</name>\\n<description>Choices apply to both collection/sharing and use.</description>\\n</value>\\n<value>\\n<name>Unspecified</name>\\n<description>No specific scope of choices is mentioned.</description>\\n</value>\\n</values>\\n</attribute>\\n</attributes>\\n</category>\\n<category>\\n<name>User Choice/Control</name>\\n<description>Practice that describes general choices and control options available to users.</description>\\n<attributes>\\n<attribute color=\"#993333\" optional=\"false\">\\n<name>Choice Type</name>\\n<description>The type of user choice or privacy control options available to users.</description>\\n<values>\\n<value>\\n<name>Dont use service/feature</name>\\n<description>Only option is not to use the feature or service. Only select this if explicitly stated in policy (i.e., don\\'t interpret silence as \"Don\\'t use website or feature\").</description>\\n</value>\\n<value>\\n<name>Opt-in</name>\\n<description>User must consent before data can be shared with or collected/used by third party.</description>\\n</value>\\n<value>\\n<name>Opt-out link</name>\\n<description>Link provided in privacy policy, on website, in mobile app, or in email, etc.</description>\\n</value>\\n<value>\\n<name>Opt-out via contacting company</name>\\n<description>Must contact company/organization via email, phone, postal mail to opt-out.</description>\\n</value>\\n<value>\\n<name>First-party privacy controls</name>\\n<description>Website/app provides user settings for privacy configuration.</description>\\n</value>\\n<value>\\n<name>Third-party privacy controls</name>\\n<description>Choices provided by a third party (e.g., privacy settings on social media site) or industry (e.g., AdChoices Opt-out).</description>\\n</value>\\n<value>\\n<name>Browser/device privacy controls</name>\\n<description>Policy suggests the use of browser’s or mobile device’s privacy settings, e.g., to block trackers or cookies, activate Do-Not-Track, disable location sharing, clear history, etc.</description>\\n</value>\\n<value>\\n<name>Other</name>\\n<description>Other specific user choice or control option not captured above.</description>\\n</value>\\n<value>\\n<name>Unspecified</name>\\n<description>No user choices mentioned for this practice.</description>\\n</value>\\n</values>\\n</attribute>\\n<attribute color=\"#CC4444\" optional=\"false\">\\n<name>Choice Scope</name>\\n<description>What scope does the user choice or control apply to, i.e., first party collection/use or third party collection/use. Note that sometimes use of information can be limited, but the information is still collected from users.</description>\\n<values>\\n<value>\\n<name>First party collection</name>\\n<description>Choices apply to data collection by first party.</description>\\n</value>\\n<value>\\n<name>First party use</name>\\n<description>Choices apply to the use of information by first party.</description>\\n</value>\\n<value>\\n<name>Third party sharing/collection</name>\\n<description>Choices apply to data sharing with / collection by third party.</description>\\n</value>\\n<value>\\n<name>Third party use</name>\\n<description>Choices apply to the use of information by third party.</description>\\n</value>\\n<value>\\n<name>Unspecified</name>\\n<description>No specific scope of choices is mentioned.</description>\\n</value>\\n</values>\\n</attribute>\\n<attribute color=\"#0000FF\" optional=\"false\">\\n<name>Personal Information Type</name>\\n<description>What category of information does the user choice apply to?</description>\\n<values>\\n<value>\\n<name>Financial</name>\\n<description>Financial information, such as credit/debit card data, other payment information, credit scores, etc.</description>\\n</value>\\n<value>\\n<name>Health</name>\\n<description>Health Information, such as information about health conditions, prescriptions, medication, as well as health monitoring data, e.g., heart rate, step count, activity level, etc.</description>\\n</value>\\n<value>\\n<name>Contact</name>\\n<description>Contact Information, such as name, email address, phone number, street address, etc.</description>\\n</value>\\n<value>\\n<name>Location</name>\\n<description>Geo-location information (e.g., user\\'s current location) regardless of granularity, i.e., could be exact location, ZIP code, city-level.</description>\\n</value>\\n<value>\\n<name>Demographic</name>\\n<description>Demographic Information, e.g., gender, age, occupation, education, etc.</description>\\n</value>\\n<value>\\n<name>Personal identifier</name>\\n<description>Identifiers that uniquely identify a person,e.g., SSN, driver\\'s license number, etc.</description>\\n</value>\\n<value>\\n<name>User online activities</name>\\n<description>The user\\'s online activities on the first party website/app or other websites/apps, e.g., pages visited, time spent on pages, general user behavior online, etc.</description>\\n</value>\\n<value>\\n<name>User profile</name>\\n<description>The user’s profile on the first-party website/app and its contents, e.g., data in user profile, data that user uploaded to website, user comments, user profile preferences, etc. This is common for websites/apps where users can create an account or profile, e.g., on twitter, youtube, Facebook, Amazon, etc.</description>\\n</value>\\n<value>\\n<name>Social media data</name>\\n<description>User profile and data from a social media website/app or other third party service to which the user gave the first party access, e.g., by connecting with Facebook, twitter, or other services. Exchanged data may include user profile, photos, comments, friends, etc.</description>\\n</value>\\n<value>\\n<name>IP address and device IDs</name>\\n<description>Permanent (e.g., device IDs, MAC address) or temporary (e.g., IP address) identifiers needed to establish a connection for the current browsing session.</description>\\n</value>\\n<value>\\n<name>Cookies and tracking elements</name>\\n<description>Identifiers locally stored on user\\'s device by company/organization or third-parties including cookies, beacons, or similar that are commonly used to uniquely identify users, but that are not essential to establish a connection with the user’s device or to provide a service.</description>\\n</value>\\n<value>\\n<name>Computer information</name>\\n<description>The type of operating system (OS) or web browser that the user uses, or similar computer or device information.</description>\\n</value>\\n<value>\\n<name>Survey data</name>\\n<description>Any data that is collected through surveys</description>\\n</value>\\n<value>\\n<name>Generic personal information</name>\\n<description>No specific type of information is mentioned, but the policy talks about “personal information” or “personal identifiable information” in general.</description>\\n</value>\\n<value>\\n<name>Other</name>\\n<description>A specific type of information not covered by the above categories.</description>\\n</value>\\n<value>\\n<name>Unspecified</name>\\n<description>The type of information is not explicitly stated or unclear (e.g., refers to \"information\" very generically).</description>\\n</value>\\n</values>\\n</attribute>\\n<attribute color=\"#336633\" optional=\"false\">\\n<name>Purpose</name>\\n<description>What purpose/use of information does the user choice apply to?</description>\\n<values>\\n<value>\\n<name>Basic service/feature</name>\\n<description>Provide a service that the user explicitly requests and that is part of the website/app\\'s basic service or functionality. Examples are watching a video, reading an article, making a purchase, creating an account, contacting the company/organization, etc.</description>\\n</value>\\n<value>\\n<name>Additional service/feature</name>\\n<description>Provide a service that the user explicitly requests but that is not a necessary part of the website/app\\'s basic service. Additional services/features may enhance user experience or add convenience but require additional data, e.g., social media integration, comments, blog participation, a store finder that needs location information, etc.</description>\\n</value>\\n<value>\\n<name>Advertising</name>\\n<description>To show ads that are either targeted to the specific user or not targeted.</description>\\n</value>\\n<value>\\n<name>Marketing</name>\\n<description>To contact the user to offer products,services, or other promotions (e.g., send marketing emails, calling or texting user with marketing messages). Marketing typically requires the use of contact information.</description>\\n</value>\\n<value>\\n<name>Analytics/Research</name>\\n<description>For understanding the website/app’s audience, improving the website/app, inform company strategy, or general research.</description>\\n</value>\\n<value>\\n<name>Personalization/Customization</name>\\n<description>For providing user with a personalized experience, e.g., by allowing to arrange how the website/app looks, based on the user’s preferences or language, etc.</description>\\n</value>\\n<value>\\n<name>Service Operation and Security</name>\\n<description>For website/app operation and security, enforcement of terms of service, fraud prevention, protecting users and property, etc.</description>\\n</value>\\n<value>\\n<name>Legal requirement</name>\\n<description>For compliance with legal obligations, e.g., regulations, government data requests, government retention requests, law enforcement requests in general, etc.</description>\\n</value>\\n<value>\\n<name>Merger/Acquisition</name>\\n<description>If company/organization merges or is acquired it transfers users\\' information to another company/organization.</description>\\n</value>\\n<value>\\n<name>Other</name>\\n<description>Other specific purpose not covered above.</description>\\n</value>\\n<value>\\n<name>Unspecified</name>\\n<description>The purpose is not explicitly stated or is unclear.</description>\\n</value>\\n</values>\\n</attribute>\\n<attribute color=\"#FF00FF\" default=\"not-selected\" optional=\"true\">\\n<name>User Type</name>\\n<description>Use this optional attribute if this practice applies specifically to users with or without an account.</description>\\n<values>\\n<value>\\n<name>User without account</name>\\n<description>This data practice specifically applies to users that do not have an account or are not registered with the website or mobile app.</description>\\n</value>\\n<value>\\n<name>User with account</name>\\n<description>This data practice specifically applies to users with an account or who are registered with the website or mobile app.</description>\\n</value>\\n<value>\\n<name>Other</name>\\n<description>This data practice applies to a specific user type not covered by the options above.</description>\\n</value>\\n<value>\\n<name>Unspecified</name>\\n<description>It is not specified whether this practice applies to users with or without account.</description>\\n</value>\\n</values>\\n</attribute>\\n</attributes>\\n</category>\\n<category>\\n<name>User Access, Edit and Deletion</name>\\n<description>Privacy practice that allows users to access, edit or delete the data that the company/organization has about them.</description>\\n<attributes>\\n<attribute color=\"#663333\" optional=\"false\">\\n<name>Access Type</name>\\n<description>Options offered for users to access, edit, delete information that the company/organization has about them.</description>\\n<values>\\n<value>\\n<name>None</name>\\n<description>Users cannot access, edit, or delete data. Only select this if explicitly stated that users don\\'t have access, otherwise select \"Unspecified.\"</description>\\n</value>\\n<value>\\n<name>View</name>\\n<description>Users can access their information, but not edit or delete it</description>\\n</value>\\n<value>\\n<name>Export</name>\\n<description>Users can export their information to other services or download it to own computer.</description>\\n</value>\\n<value>\\n<name>Edit information</name>\\n<description>User can modify or delete specific information</description>\\n</value>\\n<value>\\n<name>Deactivate account</name>\\n<description>User can deactivate account so that the user’s information is not visible to other users anymore, but the company/organization keeps all the data.</description>\\n</value>\\n<value>\\n<name>Delete account (partial)</name>\\n<description>User can delete account, but the company/organization may continue to keep some of the user’s data.</description>\\n</value>\\n<value>\\n<name>Delete account (full)</name>\\n<description>User can delete account and all of the user’s information is removed from company/organization’s servers/databases.</description>\\n</value>\\n<value>\\n<name>Other</name>\\n<description>An access, edit, or delete option not covered above.</description>\\n</value>\\n<value>\\n<name>Unspecified</name>\\n<description>Access options are not mentioned or unclear.</description>\\n</value>\\n</values>\\n</attribute>\\n<attribute color=\"#996666\" optional=\"false\">\\n<name>Access Scope</name>\\n<description>If access is offered, what data does it apply to.</description>\\n<values>\\n<value>\\n<name>User account data</name>\\n<description>Information explicitly provided by the user, such as contact,  demographic, and any other explicitly provided information that is part of the user’s profile/account. This includes user preferences and settings.</description>\\n</value>\\n<value>\\n<name>Transactional data</name>\\n<description>Purchases made, online activity, products watched, comments or questions submitted.</description>\\n</value>\\n<value>\\n<name>Profile data</name>\\n<description>Information that the company has learned about user, even if the user did not explicitly provided it</description>\\n</value>\\n<value>\\n<name>Other data about user</name>\\n<description>Other information that the company/organization has learned about the user, e.g., inferred preferences, data from other third parties, etc.</description>\\n</value>\\n<value>\\n<name>Other</name>\\n<description>A specific access scope is described that is not covered above.</description>\\n</value>\\n<value>\\n<name>Unspecified</name>\\n<description>Access scope is not mentioned or unclear.</description>\\n</value>\\n</values>\\n</attribute>\\n<attribute color=\"#FF00FF\" default=\"not-selected\" optional=\"true\">\\n<name>User Type</name>\\n<description>Use this optional attribute if this practice applies specifically to users with or without an account.</description>\\n<values>\\n<value>\\n<name>User without account</name>\\n<description>This data practice specifically applies to users that do not have an account or are not registered with the website or mobile app.</description>\\n</value>\\n<value>\\n<name>User with account</name>\\n<description>This data practice specifically applies to users with an account or who are registered with the website or mobile app.</description>\\n</value>\\n<value>\\n<name>Other</name>\\n<description>This data practice applies to a specific user type not covered by the options above.</description>\\n</value>\\n<value>\\n<name>Unspecified</name>\\n<description>It is not specified whether this practice applies to users with or without account.</description>\\n</value>\\n</values>\\n</attribute>\\n</attributes>\\n</category>\\n<category>\\n<name>Data Retention</name>\\n<description>Privacy practice specifying the retention period for collected user information.</description>\\n<attributes>\\n<attribute color=\"#006666\" optional=\"false\">\\n<name>Retention Period</name>\\n<description>Description of the retention period, i.e., how long data is stored.</description>\\n<values>\\n<value>\\n<name>Indefinitely</name>\\n<description>Collected user information is retained indefinitely.</description>\\n</value>\\n<value>\\n<name>Limited</name>\\n<description>Data is deleted, anonymized, or aggregated at some point, but no specific retention period is stated, e.g., “only stored as long as needed to perform requested service” or “as required by legal obligations.”</description>\\n</value>\\n<value>\\n<name>Stated Period</name>\\n<description>Collected user information is deleted, anonymized or aggregated after a specific time period, e.g., “activity data is anonymized after 30 days.”</description>\\n</value>\\n<value>\\n<name>Other</name>\\n<description>A specific retention type not covered above.</description>\\n</value>\\n<value>\\n<name>Unspecified</name>\\n<description>Retention period is not stated or unclear.</description>\\n</value>\\n</values>\\n</attribute>\\n<attribute color=\"#336633\" optional=\"false\">\\n<name>Retention Purpose</name>\\n<description>The purpose to which the retention practice applies (may be “unspecified”).</description>\\n<values>\\n<value>\\n<name>Perform service</name>\\n<description>Collected user information is only stored as long as it is needed to perform the requested service.</description>\\n</value>\\n<value>\\n<name>Legal requirement</name>\\n<description>Collected data is only stored as long as required for legal or law enforcement purposes.</description>\\n</value>\\n<value>\\n<name>Analytics/Research</name>\\n<description>For understanding the website/app’s audience, improving the website/app, inform company strategy, or general research.</description>\\n</value>\\n<value>\\n<name>Service operation and security</name>\\n<description>For website/app operation and security, enforcement of terms of service, fraud prevention, protecting users and property, etc.</description>\\n</value>\\n<value>\\n<name>Advertising</name>\\n<description>To show ads that are either targeted to the specific user or not targeted.</description>\\n</value>\\n<value>\\n<name>Marketing</name>\\n<description>To contact the user to offer products, services, or other promotions (e.g., send marketing emails, calling or texting user with marketing messages). Marketing typically requires the use of contact information.</description>\\n</value>\\n<value>\\n<name>Other</name>\\n<description>Other specific retention purpose not covered above.</description>\\n</value>\\n<value>\\n<name>Unspecified</name>\\n<description>The retention purpose is not explicitly stated or is unclear.</description>\\n</value>\\n</values>\\n</attribute>\\n<attribute color=\"#0000FF\" optional=\"false\">\\n<name>Personal Information Type</name>\\n<description>The information type for which the retention period is specified (may be “unspecified”).</description>\\n<values>\\n<value>\\n<name>Financial</name>\\n<description>Financial information, such as credit/debit card data, other payment information, credit scores, etc.</description>\\n</value>\\n<value>\\n<name>Health</name>\\n<description>Health Information, such as information about health conditions, prescriptions, medication, as well as health monitoring data, e.g., heart rate, step count, activity level, etc.</description>\\n</value>\\n<value>\\n<name>Contact</name>\\n<description>Contact Information, such as name, email address, phone number, street address, etc.</description>\\n</value>\\n<value>\\n<name>Location</name>\\n<description>Geo-location information (e.g., user\\'s current location) regardless of granularity, i.e., could be exact location, ZIP code, city-level.</description>\\n</value>\\n<value>\\n<name>Demographic</name>\\n<description>Demographic Information, e.g., gender, age, occupation, education, etc.</description>\\n</value>\\n<value>\\n<name>Personal identifier</name>\\n<description>Identifiers that uniquely identify a person,e.g., SSN, driver\\'s license number, etc.</description>\\n</value>\\n<value>\\n<name>User online activities</name>\\n<description>The user\\'s online activities on the first party website/app or other websites/apps, e.g., pages visited, time spent on pages, general user behavior online, etc.</description>\\n</value>\\n<value>\\n<name>User profile</name>\\n<description>The user’s profile on the first-party website/app and its contents, e.g., data in user profile, data that user uploaded to website, user comments, user profile preferences, etc. This is common for websites/apps where users can create an account or profile, e.g., on twitter, youtube, Facebook, Amazon, etc.</description>\\n</value>\\n<value>\\n<name>Social media data</name>\\n<description>User profile and data from a social media website/app or other third party service to which the user gave the first party access, e.g., by connecting with Facebook, twitter, or other services. Exchanged data may include user profile, photos, comments, friends, etc.</description>\\n</value>\\n<value>\\n<name>IP address and device IDs</name>\\n<description>Permanent (e.g., device IDs, MAC address) or temporary (e.g., IP address) identifiers needed to establish a connection for the current browsing session.</description>\\n</value>\\n<value>\\n<name>Cookies and tracking elements</name>\\n<description>Identifiers locally stored on user\\'s device by website or third-parties including cookies, beacons, or similar that are commonly used to uniquely identify users, but that are not essential to establish a connection with the user’s device or to provide a service.</description>\\n</value>\\n<value>\\n<name>Computer information</name>\\n<description>The type of operating system (OS) or web browser that the user uses, or similar computer or device information.</description>\\n</value>\\n<value>\\n<name>Survey data</name>\\n<description>Any data that is collected through surveys</description>\\n</value>\\n<value>\\n<name>Generic personal information</name>\\n<description>No specific type of information is mentioned, but the policy talks about “personal information” or “personal identifiable information” in general.</description>\\n</value>\\n<value>\\n<name>Other</name>\\n<description>A specific type of information not covered by the above categories.</description>\\n</value>\\n<value>\\n<name>Unspecified</name>\\n<description>The type of information is not explicitly stated or unclear (e.g., refers to \"information\" very generically).</description>\\n</value>\\n</values>\\n</attribute>\\n</attributes>\\n</category>\\n<category>\\n<name>Data Security</name>\\n<description>Practice that describes how users’ information is secured and protected, e.g., from confidentiality, integrity, or availability breaches. Common practices include the encryption of stored data and online communications.</description>\\n<attributes>\\n<attribute color=\"#FF0000\" optional=\"false\">\\n<name>Security Measure</name>\\n<description>Policy statements that describe the type of security that the website/app implements to protect users’ information.</description>\\n<values>\\n<value>\\n<name>Secure data transfer</name>\\n<description>Data transfer between user and website/app is encrypted, e.g., SSL, TLS, HTTPS.</description>\\n</value>\\n<value>\\n<name>Secure user authentication</name>\\n<description>User authentication, e.g., login to a user account, is encrypted/secured.</description>\\n</value>\\n<value>\\n<name>Secure data storage</name>\\n<description>Data is stored securely, e.g. in an encrypted format or database.</description>\\n</value>\\n<value>\\n<name>Data access limitation</name>\\n<description>Data is accessible to employees/third parties on a need-to-know basis.</description>\\n</value>\\n<value>\\n<name>Privacy training</name>\\n<description>The company/organization trains its employees/third parties in applicable privacy and security practices to protect user data.</description>\\n</value>\\n<value>\\n<name>Privacy review/audit</name>\\n<description>Privacy practices and security measures of the first party or third party are reviewed/audited by internal or external reviewers/auditors.</description>\\n</value>\\n<value>\\n<name>Privacy/Security program</name>\\n<description>The company/organization has a privacy or security program/organization in place addressing, for example, how to protect data against unauthorized access or privacy training for employees.</description>\\n</value>\\n<value>\\n<name>Generic</name>\\n<description>The policy makes generic security statements, e.g., “we protect your data” or “we use technology/encryption to protect your data.”</description>\\n</value>\\n<value>\\n<name>Other</name>\\n<description>A specific security measure not covered above.</description>\\n</value>\\n<value>\\n<name>Unspecified</name>\\n<description>Security measures are not mentioned or unclear.</description>\\n</value>\\n</values>\\n</attribute>\\n</attributes>\\n</category>\\n<category>\\n<name>Policy Change</name>\\n<description>The company/organization’s practices concerning if and how users will be informed of changes to its privacy policy, including any choices offered to users.</description>\\n<attributes>\\n<attribute color=\"#996633\" optional=\"false\">\\n<name>Change Type</name>\\n<description>For what type of changes to the website/app’s policy are users notified.</description>\\n<values>\\n<value>\\n<name>Non-privacy relevant change</name>\\n<description>Minor change to the privacy policy that does not significantly affect data practices.</description>\\n</value>\\n<value>\\n<name>Privacy relevant change</name>\\n<description>A change to the privacy policy significantly impacting current data practices, e.g., use, collection, sharing, retention, etc.</description>\\n</value>\\n<value>\\n<name>In case of merger or acquisition</name>\\n<description>Users are notified if the policy changes as the result of a merger or acquisition.</description>\\n</value>\\n<value>\\n<name>Other</name>\\n<description>Other specific policy change type not covered above.</description>\\n</value>\\n<value>\\n<name>Unspecified</name>\\n<description>It is not mentioned or unclear for what kind of policy changes users are notified.</description>\\n</value>\\n</values>\\n</attribute>\\n<attribute color=\"#CC6633\" optional=\"false\">\\n<name>Notification Type</name>\\n<description>How is the user notified when the privacy policy changes.</description>\\n<values>\\n<value>\\n<name>No notification</name>\\n<description>User is not notified of changes to the privacy policy.</description>\\n</value>\\n<value>\\n<name>General notice in privacy policy</name>\\n<description>The policy date is updated or information about the change is posted as part of the privacy policy site.</description>\\n</value>\\n<value>\\n<name>General notice on website</name>\\n<description>Users will be notified when visiting the main website, i.e., not only when looking at the privacy policy.</description>\\n</value>\\n<value>\\n<name>Personal notice</name>\\n<description>Users will be personally informed about a privacy policy change, e.g., via email, text message or when logging into their account.</description>\\n</value>\\n<value>\\n<name>Other</name>\\n<description>Users are notified in another specific way not covered above.</description>\\n</value>\\n<value>\\n<name>Unspecified</name>\\n<description>How users are notified about policy changes is not mentioned or unclear.</description>\\n</value>\\n</values>\\n</attribute>\\n<attribute color=\"#CC9966\" optional=\"false\">\\n<name>User Choice</name>\\n<description>What choices/options are offered to the user when the policy changes.</description>\\n<values>\\n<value>\\n<name>None</name>\\n<description>The user has no options when the policy changes.</description>\\n</value>\\n<value>\\n<name>Opt-out</name>\\n<description>Users can decline the new policy within a certain time period (e.g., 30 days), e.g., by canceling their account, opting-out of new practices, etc.</description>\\n</value>\\n<value>\\n<name>Opt-in</name>\\n<description>User must agree before their data is collected/used/shared according to the new privacy policy.</description>\\n</value>\\n<value>\\n<name>User participation</name>\\n<description>Users can decide or influence policy change (e.g., the company/organization proposes a change and asks for users\\' opinions).</description>\\n</value>\\n<value>\\n<name>Other</name>\\n<description>Other specific user choice not covered above.</description>\\n</value>\\n<value>\\n<name>Unspecified</name>\\n<description>Choices regarding policy changes are not mentioned or unclear.</description>\\n</value>\\n</values>\\n</attribute>\\n</attributes>\\n</category>\\n<category>\\n<name>Do Not Track</name>\\n<description>Practices that explain if and how Do Not Track signals (DNT) for online tracking and advertising are honored.</description>\\n<attributes>\\n<attribute color=\"#6633FF\" optional=\"false\">\\n<name>Do Not Track policy</name>\\n<description>If and how Do-Not-Track signals (DNT) are honored.</description>\\n<values>\\n<value>\\n<name>Not mentioned</name>\\n<description>There is no statement concerning Do Not Track</description>\\n</value>\\n<value>\\n<name>Honored</name>\\n<description>The website/app reads and adheres to the user\\'s DNT preference</description>\\n</value>\\n<value>\\n<name>Not honored</name>\\n<description>The website/app ignores DNT headers and the user’s DNT preference.</description>\\n</value>\\n<value>\\n<name>Mentioned, but unclear if honored</name>\\n<description>DNT headers are mentioned but it is unclear if the company/organization adheres to the user\\'s DNT preference.</description>\\n</value>\\n<value>\\n<name>Other</name>\\n<description>The website/app handles DNT headers in a different way not covered above.</description>\\n</value>\\n</values>\\n</attribute>\\n</attributes>\\n</category>\\n<category>\\n<name>International and Specific Audiences</name>\\n<description>Specific audiences mentioned in the company/organization’s privacy policy, such as children or international users, for which the company/organization may provide special provisions.</description>\\n<attributes>\\n<attribute color=\"#FFFF33\" optional=\"false\">\\n<name>Audience Type</name>\\n<description>Select which audience the policy segment refers to</description>\\n<values>\\n<value>\\n<name>Californians</name>\\n<description>How data from Californian users is treated, e.g., California privacy rights.</description>\\n</value>\\n<value>\\n<name>Europeans</name>\\n<description>How data from European users is treated, e.g., Safe Harbor provisions.</description>\\n</value>\\n<value>\\n<name>Citizens from other countries</name>\\n<description>Specific provisions for international audiences or citizens from countries other than US or Europe, e.g., international data transfer.</description>\\n</value>\\n<value>\\n<name>Children</name>\\n<description>How data from children is treated.</description>\\n</value>\\n<value>\\n<name>Other</name>\\n<description>Other specific audience group not mentioned above.</description>\\n</value>\\n</values>\\n</attribute>\\n</attributes>\\n</category>\\n<category>\\n<name>Other</name>\\n<description>Another aspect not covered in the other categories is discussed in the text segment.</description>\\n<attributes>\\n<attribute color=\"#FF6699\" optional=\"false\">\\n<name>Other Type</name>\\n<description>What other aspect not covered in the other categories is discussed in the text segment?</description>\\n<values>\\n<value>\\n<name>Introductory/Generic</name>\\n<description>It\\'s a paragraph that introduces the policy, a section, or a group of practices, but does not mention a specific privacy/data practice. The paragraph makes generic statements, but does not describe specific privacy/data practices</description>\\n</value>\\n<value>\\n<name>Practice not covered</name>\\n<description>The paragraph describes a specific data practice, which is not covered by any of the other data practice categories.</description>\\n</value>\\n<value>\\n<name>Privacy contact information</name>\\n<description>The paragraph describes how to contact the company with questions, concerns, or complaints about the privacy policy.</description>\\n</value>\\n<value>\\n<name>Other</name>\\n<description>The paragraph does not fit any of the values above.</description>\\n</value>\\n</values>\\n</attribute>\\n</attributes>\\n</category>\\n</categories>'"
            ]
          },
          "metadata": {
            "tags": []
          },
          "execution_count": 15
        }
      ]
    },
    {
      "metadata": {
        "id": "-cADD7kG8TLt",
        "colab_type": "code",
        "colab": {}
      },
      "cell_type": "code",
      "source": [
        "from bs4 import BeautifulSoup\n",
        "import urllib.request\n",
        "\n",
        "# source = urllib.request.urlopen('/content/drive/My Drive/FYP/Final Year Project Code/categories-july30.xml').read()\n",
        "soup = BeautifulSoup(str(defineCategories),'lxml')\n"
      ],
      "execution_count": 0,
      "outputs": []
    },
    {
      "metadata": {
        "id": "QID-aZ4pxkgX",
        "colab_type": "code",
        "colab": {}
      },
      "cell_type": "code",
      "source": [
        "from collections import defaultdict\n"
      ],
      "execution_count": 0,
      "outputs": []
    },
    {
      "metadata": {
        "id": "FNRQO_THxVOk",
        "colab_type": "code",
        "colab": {}
      },
      "cell_type": "code",
      "source": [
        "categoryList = []\n",
        "attribute_n_values = defaultdict (lambda:defaultdict(lambda:\"\"))"
      ],
      "execution_count": 0,
      "outputs": []
    },
    {
      "metadata": {
        "id": "0m4svBo_8nRZ",
        "colab_type": "code",
        "colab": {}
      },
      "cell_type": "code",
      "source": [
        "# print (len(soup.attributes))\n",
        "for c in soup.categories:\n",
        "  Vcategory = BeautifulSoup(str(c),'lxml')\n",
        "#   print (len(Vcategory.category))\n",
        "  if (Vcategory.category is not None):\n",
        "    for k in Vcategory.category:\n",
        "      l = str(k).replace(\"<name>\",\"<cname>\")\n",
        "      l = str(l).replace(\"</name>\",\"</cname>\")\n",
        "      attribute = BeautifulSoup(str(l),'lxml')\n",
        "      \n",
        "#       print (re.sub(\"<cname>|</cname>\",\"\",str(attribute.cname)))\n",
        "      if (attribute.attributes is not None):\n",
        "        for i in (attribute.attributes):\n",
        "        #   print (str(i))\n",
        "          l = str(i).replace(\"<cname>\",\"<aname>\")\n",
        "          l = str(l).replace(\"</cname>\",\"</aname>\")\n",
        "          attr = BeautifulSoup(str(l),'lxml')\n",
        "    #       print (len(attr))\n",
        "#           if (attr.aname is not None) :   \n",
        "            \n",
        "          if len(attr)>0:\n",
        "            if (attr.values is not None):\n",
        "              for j in attr.values:\n",
        "    #             print (j,\"\\\\\\\\\\\\\\\\\\\\\\\\\\\\\\\\\\\\\\\\\\\\\\\\\\\\\\\\\\\\\\\\\")\n",
        "                l = str(j).replace(\"<aname>\",\"<vname>\")\n",
        "                l = str(l).replace(\"</aname>\",\"</vname>\")\n",
        "                attr_ValueName = BeautifulSoup(str(l),'lxml')\n",
        "\n",
        "                if (attr_ValueName.vname is not None):\n",
        "                  attribute_name = re.sub(\"<aname>|</aname>\",\"\",str(attr.aname))\n",
        "#                   print (\"Attribute Name:\\t\", re.sub(\"<aname>|</aname>\",\"\",str(attr.aname)))\n",
        "                  attribute_value = re.sub(\"<vname>|</vname>\",\"\",str(attr_ValueName.vname))\n",
        "#                   print (\"Attribute Value:\\t\",re.sub(\"<vname>|</vname>\",\"\",str(attr_ValueName.vname)))\n",
        "                  attribute_n_values[attribute_name][attribute_value] = \"\"\n",
        "\n",
        "              \n",
        "              \n",
        "              \n",
        "              \n",
        "#   #               for l in attr_ValueName.value:\n",
        "                \n",
        "#                 attr_Value = BeautifulSoup(str(l),'lxml')\n",
        "#                 if (attr_Value.vname is not None):\n",
        "#                   print (str(attr_Value.vname))\n",
        "#       print (str(attr_Value.ValueName))\n",
        "#     print (str(j))\n",
        "# soup = BeautifulSoup(str(attr_str),'lxml')\n",
        "# soup.value"
      ],
      "execution_count": 0,
      "outputs": []
    },
    {
      "metadata": {
        "id": "BgtBsBsG28Hv",
        "colab_type": "code",
        "colab": {}
      },
      "cell_type": "code",
      "source": [
        "import json"
      ],
      "execution_count": 0,
      "outputs": []
    },
    {
      "metadata": {
        "id": "DUlZ6A1lOrnF",
        "colab_type": "code",
        "colab": {}
      },
      "cell_type": "code",
      "source": [
        "attributeNames = list(attribute_n_values.keys())\n",
        "# attributeNames"
      ],
      "execution_count": 0,
      "outputs": []
    },
    {
      "metadata": {
        "id": "k2q1Xi4JGole",
        "colab_type": "code",
        "colab": {}
      },
      "cell_type": "code",
      "source": [
        "# import ipynb\n",
        "# from ipynb.fs.full.common import *\n",
        "# from IPython import get_ipython\n",
        "# from nbformat import current\n",
        "# from IPython.common import *\n",
        "    \n",
        "def clean(txt):\n",
        "  \n",
        "  s = re.sub (\"<br>| <br>| <br/> <br/>|\\. <br/> <br/>\",\". \",str(txt))\n",
        "  s = re.sub(\";|</li>[ ]*</ul>|\\([i|v|x]+\\)\",\"\",str(s))\n",
        "  s = re.sub(\"<\\w*>|<\\w*\\/>|<\\/\\w*>|\\d*\",\"\",str(s))\n",
        "  s = re.sub(\"[^ A-Za-z\\.]\",\"\",s)\n",
        "  return s\n",
        "    "
      ],
      "execution_count": 0,
      "outputs": []
    },
    {
      "metadata": {
        "id": "8sXQdt2P1br4",
        "colab_type": "code",
        "outputId": "b54b1d4e-77cb-4ec3-d6e4-ff6f4cf38ae4",
        "colab": {
          "base_uri": "https://localhost:8080/",
          "height": 1972
        }
      },
      "cell_type": "code",
      "source": [
        "text_list = []\n",
        "privacy115_SegmentID = [] # appends all the SI of a privacy document \n",
        "labeltotal = np.zeros ((10,))\n",
        "for d in range(len(dirs)):\n",
        "  print (onlyfiles[d])#,directory[re.sub(\"[\\d]+_|.html\",\"\",onlyfiles[d])])\n",
        "  with open(directory[re.sub(\"[\\d]+_|.html\",\"\",onlyfiles[d])], 'r') as csvfile:\n",
        "      spamreader = csv.reader(csvfile)\n",
        "      t=[]\n",
        "      for row in spamreader:\n",
        "          t.append(row)\n",
        "      SI = defaultdict (lambda: \"\") # keys is the segment ID : values are the corresponding labels and count\n",
        "      \n",
        "      \n",
        "      for i in range(len(t)):\n",
        "        selectedSentence = json.loads(np.array(t)[i,6])\n",
        "        for k in selectedSentence.keys():\n",
        "#           print (selectedSentence[k].keys())\n",
        "#           print (selectedSentence)\n",
        "          if (\"selectedText\" in selectedSentence[k].keys()):\n",
        "            sen = selectedSentence[k][\"selectedText\"]\n",
        "            if (sen.lower() not in \" not-selected \" and sen.lower() not in \" not selected \" and sen.lower() not in \" unspecified \" and sen.lower() not in  \" null \" ):\n",
        "\n",
        "              attribute_n_values[k][selectedSentence[k][\"value\"]] += clean(selectedSentence[k][\"selectedText\"]) + \" | \"\n",
        "              text_list.append( clean(selectedSentence[k][\"selectedText\"]).split() )\n"
      ],
      "execution_count": 23,
      "outputs": [
        {
          "output_type": "stream",
          "text": [
            "1017_sci-news.com.html\n",
            "105_amazon.com.html\n",
            "1028_redorbit.com.html\n",
            "1050_honda.com.html\n",
            "1034_aol.com.html\n",
            "1070_wnep.com.html\n",
            "1106_allstate.com.html\n",
            "1089_freep.com.html\n",
            "1099_enthusiastnetwork.com.html\n",
            "1083_highgearmedia.com.html\n",
            "1164_acbj.com.html\n",
            "1224_austincc.edu.html\n",
            "1252_cincymuseum.org.html\n",
            "1221_gwdocs.com.html\n",
            "1206_dcccd.edu.html\n",
            "1259_fool.com.html\n",
            "1205_opensecrets.org.html\n",
            "1261_zacks.com.html\n",
            "1300_bankofamerica.com.html\n",
            "1264_citizen.org.html\n",
            "1306_chasepaymentech.com.html\n",
            "133_fortune.com.html\n",
            "1360_thehill.com.html\n",
            "135_instagram.com.html\n",
            "1468_rockstargames.com.html\n",
            "1470_steampowered.com.html\n",
            "1419_miaminewtimes.com.html\n",
            "144_style.com.html\n",
            "1498_ticketmaster.com.html\n",
            "1361_yahoo.com.html\n",
            "1510_jibjab.com.html\n",
            "1582_msn.com.html\n",
            "1539_geocaching.com.html\n",
            "1545_taylorswift.com.html\n",
            "1610_post-gazette.com.html\n",
            "1637_dailyillini.com.html\n",
            "1618_sltrib.com.html\n",
            "164_adweek.com.html\n",
            "1666_wsmv.com.html\n",
            "1636_sidearmsports.com.html\n",
            "1673_tulsaworld.com.html\n",
            "1683_dailynews.com.html\n",
            "1694_lids.com.html\n",
            "1703_sports-reference.com.html\n",
            "202_foodallergy.org.html\n",
            "200_washingtonpost.com.html\n",
            "1708_foxsports.com.html\n",
            "186_abcnews.com.html\n",
            "175_mlb.mlb.com.html\n",
            "1713_latinpost.com.html\n",
            "207_reference.com.html\n",
            "228_gawker.com.html\n",
            "21_imdb.com.html\n",
            "20_theatlantic.com.html\n",
            "303_reddit.com.html\n",
            "26_nytimes.com.html\n",
            "32_voxmedia.com.html\n",
            "320_timeinc.com.html\n",
            "325_ocregister.com.html\n",
            "331_tgifridays.com.html\n",
            "33_nbcuniversal.com.html\n",
            "394_newsbusters.org.html\n",
            "414_washingtonian.com.html\n",
            "359_vikings.com.html\n",
            "453_barnesandnoble.com.html\n",
            "348_walmart.com.html\n",
            "456_boardgamegeek.com.html\n",
            "481_fredericknewspost.com.html\n",
            "503_buffalowildwings.com.html\n",
            "517_kaleidahealth.org.html\n",
            "523_usa.gov.html\n",
            "559_www.loc.gov.html\n",
            "531_archives.gov.html\n",
            "571_abita.com.html\n",
            "584_communitycoffee.com.html\n",
            "586_cariboucoffee.com.html\n",
            "541_ifsa-butler.org.html\n",
            "591_google.com.html\n",
            "58_esquire.com.html\n",
            "581_coffeereview.com.html\n",
            "59_liquor.com.html\n",
            "635_playstation.com.html\n",
            "627_dairyqueen.com.html\n",
            "676_restaurantnews.com.html\n",
            "640_gamestop.com.html\n",
            "641_cbsinteractive.com.html\n",
            "652_randomhouse.com.html\n",
            "642_thefreedictionary.com.html\n",
            "701_tangeroutlet.com.html\n",
            "686_military.com.html\n",
            "723_dogbreedinfo.com.html\n",
            "744_minecraft.gamepedia.com.html\n",
            "70_meredith.com.html\n",
            "745_eatchicken.com.html\n",
            "82_sheknows.com.html\n",
            "777_education.jlab.org.html\n",
            "817_ironhorsevineyards.com.html\n",
            "760_si.edu.html\n",
            "807_lodgemfg.com.html\n",
            "746_kraftrecipes.com.html\n",
            "856_sciencemag.org.html\n",
            "862_disinfo.com.html\n",
            "898_uptodate.com.html\n",
            "883_ted.com.html\n",
            "891_everydayhealth.com.html\n",
            "884_naturalnews.com.html\n",
            "928_stlouisfed.org.html\n",
            "907_earthkam.org.html\n",
            "93_pbs.org.html\n",
            "919_uh.edu.html\n",
            "940_internetbrands.com.html\n",
            "988_solarviews.com.html\n",
            "962_lynda.com.html\n",
            "995_mohegansun.com.html\n",
            "98_neworleansonline.com.html\n"
          ],
          "name": "stdout"
        }
      ]
    },
    {
      "metadata": {
        "id": "eAYHvw1D_bxU",
        "colab_type": "code",
        "colab": {}
      },
      "cell_type": "code",
      "source": [
        "DROPOUT = None"
      ],
      "execution_count": 0,
      "outputs": []
    },
    {
      "metadata": {
        "id": "bseoqM4H6iSl",
        "colab_type": "code",
        "colab": {}
      },
      "cell_type": "code",
      "source": [
        "def make_model(mname,shape, num):\n",
        "  model = Sequential(name = mname)\n",
        "\n",
        "  model.add(Conv1D( 200,3, activation='relu',input_shape=shape,kernel_initializer='glorot_uniform') )\n",
        "\n",
        "  model.add(MaxPooling1D(pool_size=2))\n",
        "  model.add(Conv1D(150,3, activation='relu'))\n",
        "  model.add(MaxPooling1D(pool_size=2))\n",
        "#   model.add(Conv1D(100,3, activation='relu'))\n",
        "#   model.add(MaxPooling1D(pool_size=2))\n",
        "\n",
        "  model.add(Dense(50, activation = \"relu\"))\n",
        "  model.add(Flatten())\n",
        "  model.add(Dense(num, activation = \"sigmoid\"))\n",
        "#   embeddingLayer = Embedding(shape[0],\n",
        "#                                   shape[1],\n",
        "#                                   weights=[embeddingMatrix],\n",
        "#                                   input_length=30,\n",
        "#                                   trainable=False)\n",
        "\n",
        "# #     model = Sequential()\n",
        "#   model.add(embeddingLayer)\n",
        "    \n",
        "#   model.add(LSTM(300,dropout=DROPOUT,return_sequences=True))\n",
        "#   model.add(LSTM(300,dropout=DROPOUT, return_sequences=True))\n",
        "#   model.add(LSTM(300,dropout=DROPOUT, return_sequences=True))\n",
        "#   model.add(LSTM(300, dropout=DROPOUT))\n",
        "#   model.add(Dropout(DROPOUT))\n",
        "#   model.add(Dense(40))\n",
        "#   model.add(Dropout(DROPOUT))\n",
        "\n",
        "  return model\n"
      ],
      "execution_count": 0,
      "outputs": []
    },
    {
      "metadata": {
        "id": "Lk4c78LNHSWW",
        "colab_type": "code",
        "colab": {}
      },
      "cell_type": "code",
      "source": [
        "from gensim.models import Word2Vec\n",
        "#model = Word2Vec.load('/content/drive/My Drive/FYP/Final Year Project Code/PP_word2vec_new.bin')\n",
        "import pandas as pd\n",
        "import numpy as np\n",
        "import nltk\n",
        "import re\n",
        "import bs4\n",
        "import gensim.downloader as api"
      ],
      "execution_count": 0,
      "outputs": []
    },
    {
      "metadata": {
        "id": "IE0Bcw3RBA2v",
        "colab_type": "code",
        "colab": {}
      },
      "cell_type": "code",
      "source": [
        "# from gensim.models import Word2Vec\n",
        "# w2v = Word2Vec.load('/content/drive/My Drive/FYP/Final Year Project Code/PP_word2vec_new.bin')"
      ],
      "execution_count": 0,
      "outputs": []
    },
    {
      "metadata": {
        "id": "8P50dxehHMm2",
        "colab_type": "code",
        "colab": {}
      },
      "cell_type": "code",
      "source": [
        "w2v = Word2Vec(text_list, min_count=1, compute_loss=True, size=100)\n",
        "\n",
        "# # summarize the loaded model\n",
        "# print(model)"
      ],
      "execution_count": 0,
      "outputs": []
    },
    {
      "metadata": {
        "id": "ZskfhAR5s7Cp",
        "colab_type": "code",
        "colab": {}
      },
      "cell_type": "code",
      "source": [
        "w2v = Word2Vec.load('/content/drive/My Drive/FYP/Final Year Project Code/PP_attribute_word2vec_new.bin')"
      ],
      "execution_count": 0,
      "outputs": []
    },
    {
      "metadata": {
        "id": "-tpv5m6hKfWi",
        "colab_type": "code",
        "outputId": "1b2392b4-b418-4cf9-9233-82b7d096f1a5",
        "colab": {
          "base_uri": "https://localhost:8080/",
          "height": 54
        }
      },
      "cell_type": "code",
      "source": [
        "# for count in range(0,2):\n",
        "#     w2v.train(text_list,total_examples=len(text_list), epochs=500, compute_loss=True,start_alpha=0.1)\n",
        "#     print (w2v.get_latest_training_loss())"
      ],
      "execution_count": 0,
      "outputs": [
        {
          "output_type": "stream",
          "text": [
            "13010344.0\n",
            "10013713.0\n"
          ],
          "name": "stdout"
        }
      ]
    },
    {
      "metadata": {
        "id": "rogY5glEK4CX",
        "colab_type": "code",
        "colab": {}
      },
      "cell_type": "code",
      "source": [
        "# save model\n",
        "w2v.save('/content/drive/My Drive/FYP/Final Year Project Code/PP_attribute_word2vec_new.bin')\n",
        "# # load model\n"
      ],
      "execution_count": 0,
      "outputs": []
    },
    {
      "metadata": {
        "id": "I2XIIuIL92W0",
        "colab_type": "code",
        "outputId": "225056d2-2ff3-4c23-9f51-f373413fd9f3",
        "colab": {
          "base_uri": "https://localhost:8080/",
          "height": 34
        }
      },
      "cell_type": "code",
      "source": [
        "len(attribute_n_values.keys())"
      ],
      "execution_count": 29,
      "outputs": [
        {
          "output_type": "execute_result",
          "data": {
            "text/plain": [
              "22"
            ]
          },
          "metadata": {
            "tags": []
          },
          "execution_count": 29
        }
      ]
    },
    {
      "metadata": {
        "id": "YVgwRPYtEutO",
        "colab_type": "code",
        "colab": {}
      },
      "cell_type": "code",
      "source": [
        "# len(models)"
      ],
      "execution_count": 0,
      "outputs": []
    },
    {
      "metadata": {
        "id": "rIDNA99cIUau",
        "colab_type": "code",
        "colab": {}
      },
      "cell_type": "code",
      "source": [
        "def s2V(s):\n",
        "  \n",
        "  sent = np.zeros((100,))\n",
        "  \n",
        "  for w in s.split() :\n",
        "#     #print (np.array(df[Lemmatization(w)]).shape)\n",
        "#     print (sent)\n",
        "#     print (model[w])\n",
        "    sent += np.array(w2v[w])\n",
        "  \n",
        "  return np.array(sent)"
      ],
      "execution_count": 0,
      "outputs": []
    },
    {
      "metadata": {
        "id": "SWsGEbTRPKgq",
        "colab_type": "code",
        "colab": {}
      },
      "cell_type": "code",
      "source": [
        "labls_array = []\n",
        "attribute_n_values_index = defaultdict (lambda:[])\n",
        "\n",
        "\n",
        "for k in attributeNames:\n",
        "  attribute_n_values_index[k] = list(attribute_n_values[k].keys())\n",
        "    "
      ],
      "execution_count": 0,
      "outputs": []
    },
    {
      "metadata": {
        "id": "VNlvSK7cGJoL",
        "colab_type": "code",
        "colab": {}
      },
      "cell_type": "code",
      "source": [
        "# w2v[\"endeavor\"]"
      ],
      "execution_count": 0,
      "outputs": []
    },
    {
      "metadata": {
        "id": "9EARKdW5Ddga",
        "colab_type": "code",
        "colab": {}
      },
      "cell_type": "code",
      "source": [
        "# !pip install ipynb"
      ],
      "execution_count": 0,
      "outputs": []
    },
    {
      "metadata": {
        "id": "JRtedSU4Dikw",
        "colab_type": "code",
        "outputId": "2138240b-c80f-4fc5-8ce7-1dba61454772",
        "colab": {
          "base_uri": "https://localhost:8080/",
          "height": 71
        }
      },
      "cell_type": "code",
      "source": [
        "\n",
        "secVectors = []\n",
        "\n",
        "for k in attributeNames:\n",
        "  for kk in attribute_n_values_index[k]:\n",
        "    for sen in attribute_n_values[k][kk].split(\"|\"):\n",
        "      \n",
        "#         print (type(sen),sen, sen in ' null ', cleanData(sen))# upr se theek krna hai\n",
        "#         break\n",
        "#         print(sen, clean(sen))\n",
        "        secVectors.append(s2V(clean(sen)))\n",
        "secVectors = np.array(secVectors)    "
      ],
      "execution_count": 35,
      "outputs": [
        {
          "output_type": "stream",
          "text": [
            "/usr/local/lib/python3.6/dist-packages/ipykernel_launcher.py:9: DeprecationWarning: Call to deprecated `__getitem__` (Method will be removed in 4.0.0, use self.wv.__getitem__() instead).\n",
            "  if __name__ == '__main__':\n"
          ],
          "name": "stderr"
        }
      ]
    },
    {
      "metadata": {
        "id": "zeobzSRQdlNy",
        "colab_type": "code",
        "colab": {
          "base_uri": "https://localhost:8080/",
          "height": 34
        },
        "outputId": "7b576ed1-3cc1-4cc1-8243-384cc3390a70"
      },
      "cell_type": "code",
      "source": [
        "secVectors.shape"
      ],
      "execution_count": 36,
      "outputs": [
        {
          "output_type": "execute_result",
          "data": {
            "text/plain": [
              "(77988, 100)"
            ]
          },
          "metadata": {
            "tags": []
          },
          "execution_count": 36
        }
      ]
    },
    {
      "metadata": {
        "id": "uoUGXyTQ9Lgr",
        "colab_type": "code",
        "colab": {}
      },
      "cell_type": "code",
      "source": [
        "models=[]\n",
        "sgd = keras.optimizers.SGD(lr = 0.05)\n",
        "adam = keras.optimizers.Adam(lr=0.1)\n",
        "  \n",
        "for i in range(len(attribute_n_values.keys())):\n",
        "  \n",
        "  models.append(make_model(list(attribute_n_values.keys())[i],(np.shape(secVectors)[1:][0],1),len(attribute_n_values[list(attribute_n_values.keys())[i]].keys())+1 ))\n",
        "  models[i].compile(optimizer=adam, loss='mean_squared_error', metrics=['acc'])\n"
      ],
      "execution_count": 0,
      "outputs": []
    },
    {
      "metadata": {
        "id": "bh7_kkadVQIR",
        "colab_type": "code",
        "colab": {
          "base_uri": "https://localhost:8080/",
          "height": 2584
        },
        "outputId": "4b978208-39c4-4cd0-808a-0303c1077b02"
      },
      "cell_type": "code",
      "source": [
        " for k in attributeNames:\n",
        "    for kk in attribute_n_values_index[k]:\n",
        "      print (len(attribute_n_values[k][kk].split(\"|\")))"
      ],
      "execution_count": 38,
      "outputs": [
        {
          "output_type": "stream",
          "text": [
            "6571\n",
            "658\n",
            "1871\n",
            "2235\n",
            "314\n",
            "3237\n",
            "308\n",
            "39\n",
            "101\n",
            "77\n",
            "50\n",
            "368\n",
            "166\n",
            "736\n",
            "1523\n",
            "2093\n",
            "1417\n",
            "256\n",
            "419\n",
            "503\n",
            "258\n",
            "1782\n",
            "522\n",
            "464\n",
            "139\n",
            "1233\n",
            "217\n",
            "86\n",
            "782\n",
            "1838\n",
            "590\n",
            "96\n",
            "2780\n",
            "602\n",
            "2365\n",
            "113\n",
            "1974\n",
            "1471\n",
            "1668\n",
            "1510\n",
            "1620\n",
            "826\n",
            "589\n",
            "550\n",
            "258\n",
            "504\n",
            "954\n",
            "430\n",
            "141\n",
            "1060\n",
            "314\n",
            "368\n",
            "724\n",
            "1535\n",
            "497\n",
            "415\n",
            "233\n",
            "236\n",
            "553\n",
            "343\n",
            "314\n",
            "1210\n",
            "485\n",
            "202\n",
            "195\n",
            "293\n",
            "638\n",
            "299\n",
            "138\n",
            "2390\n",
            "1512\n",
            "417\n",
            "78\n",
            "136\n",
            "86\n",
            "167\n",
            "3451\n",
            "423\n",
            "445\n",
            "183\n",
            "332\n",
            "177\n",
            "10\n",
            "119\n",
            "2\n",
            "381\n",
            "20\n",
            "71\n",
            "32\n",
            "69\n",
            "41\n",
            "299\n",
            "30\n",
            "71\n",
            "52\n",
            "50\n",
            "121\n",
            "33\n",
            "103\n",
            "42\n",
            "26\n",
            "132\n",
            "95\n",
            "48\n",
            "21\n",
            "41\n",
            "5\n",
            "7\n",
            "30\n",
            "40\n",
            "136\n",
            "37\n",
            "54\n",
            "137\n",
            "11\n",
            "38\n",
            "67\n",
            "396\n",
            "129\n",
            "13\n",
            "22\n",
            "218\n",
            "16\n",
            "15\n",
            "210\n",
            "23\n",
            "175\n",
            "119\n",
            "102\n",
            "30\n",
            "56\n",
            "70\n",
            "13\n",
            "24\n",
            "40\n",
            "13\n",
            "95\n",
            "2\n",
            "4\n",
            "76\n",
            "9\n",
            "4\n",
            "200\n",
            "59\n",
            "126\n",
            "520\n",
            "37\n",
            "1376\n",
            "789\n",
            "648\n",
            "735\n"
          ],
          "name": "stdout"
        }
      ]
    },
    {
      "metadata": {
        "id": "5jZO54AgXXoT",
        "colab_type": "code",
        "colab": {}
      },
      "cell_type": "code",
      "source": [
        "def stratifiedSampling (attribute_n_values, attr,attributeNames, attribute_n_values_index):\n",
        "  halfdataset = 0\n",
        "  total_no_values = 0\n",
        "  labls_array=[]\n",
        "  \n",
        "  for attribute in attributeNames:\n",
        "    for value in attribute_n_values_index[attribute]:\n",
        "      if (attribute == attr):\n",
        "        halfdataset+=len(attribute_n_values[attribute][value].split(\"|\"))\n",
        "      total_no_values+=len(attribute_n_values[attribute][value].split(\"|\"))\n",
        "#   print (halfdataset)  \n",
        "#   total_no_values = sum(len(numofvalues) for numofvalues in attribute_n_values_index.items())\n",
        "  \n",
        "  new_data=[]\n",
        "  \n",
        "  percentage_of_each_value = halfdataset/float(total_no_values-halfdataset)\n",
        "  print (\"Total_no_values: \", total_no_values, \"\\nHalfDataset: \", halfdataset,\"\\nPercentage: \",percentage_of_each_value)\n",
        "  i=0\n",
        "  for attribute in attributeNames:\n",
        "    for value in attribute_n_values_index[attribute]:\n",
        "      \n",
        "      if attr == attribute:\n",
        "        for sen in attribute_n_values[attribute][value].split(\"|\"):\n",
        "          labls= np.zeros((len(attribute_n_values_index[attr])+1, ))\n",
        "          new_data.append(s2V(clean(sen)))\n",
        "          labls[np.where(np.array(attribute_n_values_index[attribute]) == value)[0][0]] = 1\n",
        "          labls[-1] = 1\n",
        "          labls_array.append(labls)\n",
        "      else:\n",
        "        for sen_len in range(np.ceil(len(attribute_n_values[attribute][value].split(\"|\"))*percentage_of_each_value).astype(np.int32)):\n",
        "#           print (\"length: \",np.ceil(len(attribute_n_values[attribute][value].split(\"|\"))*percentage_of_each_value).astype(np.int32))\n",
        "          new_data.append(s2V(clean(attribute_n_values[attribute][value].split(\"|\")[sen_len])))\n",
        "          labls= np.zeros((len(attribute_n_values_index[attr])+1, ))\n",
        "          labls_array.append(labls)\n",
        "  \n",
        "  new_data = np.array(new_data)\n",
        "  labls_array = np.array(labls_array)\n",
        "  print (np.shape(labls_array), np.shape(new_data) )\n",
        "  s = np.arange((new_data).shape[0])\n",
        "  np.random.shuffle(s)\n",
        "  labls_array = labls_array[s]\n",
        "  new_data = new_data[s]\n",
        "  return new_data, labls_array\n",
        "      \n",
        "        \n",
        "      "
      ],
      "execution_count": 0,
      "outputs": []
    },
    {
      "metadata": {
        "id": "nm1XL3NIVA3E",
        "colab_type": "code",
        "colab": {}
      },
      "cell_type": "code",
      "source": [
        "# def attr_model(secVector,attr):\n",
        "    \n",
        "#   labls_array=np.zeros((secVector.shape[0],len(attribute_n_values_index[attr])+1))\n",
        "#   i = 0\n",
        "#   for k in attributeNames:\n",
        "#     for kk in attribute_n_values_index[k]:\n",
        "#       for sen in attribute_n_values[k][kk].split(\"|\"):\n",
        "# #         labls = np.zeros((len(attribute_n_values_index[k])+1,))\n",
        "# #         print (labls.shape)\n",
        "# #         print (attribute_n_values_index[k],kk)\n",
        "# #         print (np.where(np.array(attribute_n_values_index[k]) == kk)[0][0])  \n",
        "# #         labls = np.zeros((len(attribute_n_values_index[attr])+1,))\n",
        "        \n",
        "    \n",
        "#         if k == attr:\n",
        "#           labls_array[i][np.where(np.array(attribute_n_values_index[k]) == kk)[0][0]] = 1\n",
        "#           labls_array[i][-1] = 1\n",
        "        \n",
        "# #         labls_array = labls\n",
        "# #         print (np.shape(labls_array))\n",
        "# #         break\n",
        "# #       break\n",
        "# #     break\n",
        "#         i+=1\n",
        "#   print (np.shape(labls_array))\n",
        "#   return labls_array\n",
        "\n",
        "\n",
        "\n"
      ],
      "execution_count": 0,
      "outputs": []
    },
    {
      "metadata": {
        "id": "AmHY6VeaZI9e",
        "colab_type": "code",
        "colab": {}
      },
      "cell_type": "code",
      "source": [
        "# print (np.shape())"
      ],
      "execution_count": 0,
      "outputs": []
    },
    {
      "metadata": {
        "id": "OAAo4CZ_f_ul",
        "colab_type": "code",
        "colab": {}
      },
      "cell_type": "code",
      "source": [
        "def shuffle(arr):\n",
        "#   secVectors = np.array(secVectors).reshape((4734, 100, 1))\n",
        "  s = np.arange((arr).shape[0])\n",
        "  np.random.shuffle(s)\n",
        "  return s"
      ],
      "execution_count": 0,
      "outputs": []
    },
    {
      "metadata": {
        "id": "NtRX09GOFLLI",
        "colab_type": "code",
        "colab": {
          "base_uri": "https://localhost:8080/",
          "height": 10169
        },
        "outputId": "b720c133-2437-43cc-e144-550ad81ce826"
      },
      "cell_type": "code",
      "source": [
        "for i in range(len(models)):\n",
        "  print (\"\\n ------------------------------------------- \",attributeNames[i],\" ------------------------------------------- \\n\")\n",
        "  \n",
        "  secVectors, labls = stratifiedSampling (attribute_n_values, attributeNames[i],attributeNames, attribute_n_values_index)\n",
        "#   break\n",
        "  trainsize= int(len(labls)*0.7)\n",
        "#   print (models[i].summary(),np.shape(labls))\n",
        "#   print ((labls)[:30])\n",
        "#   break\n",
        "  models[i].fit(x = np.copy(np.expand_dims(secVectors, axis=-1))[:trainsize],y= np.copy(labls)[:trainsize], batch_size=200, epochs=10,shuffle=True)\n",
        "#   p = models[i].predict(np.copy(np.expand_dims(secVectors, axis=-1)[:trainsize]))\n",
        "#   theek = 0\n",
        "#   for i in range(len(p)):\n",
        "#     if np.all(np.array(p[i]) ==np.copy(labls)[i]):\n",
        "#       print (np.array(p[i]) ,np.copy(labls)[i])\n",
        "#       theek +=1\n",
        "#       break\n",
        "\n",
        "#   print (theek)\n",
        "#   break"
      ],
      "execution_count": 69,
      "outputs": [
        {
          "output_type": "stream",
          "text": [
            "\n",
            " -------------------------------------------  Does/Does Not  ------------------------------------------- \n",
            "\n",
            "Total_no_values:  77988 \n",
            "HalfDataset:  7229 \n",
            "Percentage:  0.1021636823584279\n"
          ],
          "name": "stdout"
        },
        {
          "output_type": "stream",
          "text": [
            "/usr/local/lib/python3.6/dist-packages/ipykernel_launcher.py:9: DeprecationWarning: Call to deprecated `__getitem__` (Method will be removed in 4.0.0, use self.wv.__getitem__() instead).\n",
            "  if __name__ == '__main__':\n"
          ],
          "name": "stderr"
        },
        {
          "output_type": "stream",
          "text": [
            "(14539, 3) (14539, 100)\n",
            "Epoch 1/10\n",
            "10177/10177 [==============================] - 1s 100us/step - loss: 0.3636 - acc: 0.9546\n",
            "Epoch 2/10\n",
            "10177/10177 [==============================] - 1s 89us/step - loss: 0.3636 - acc: 0.9546\n",
            "Epoch 3/10\n",
            "10177/10177 [==============================] - 1s 118us/step - loss: 0.3636 - acc: 0.9546\n",
            "Epoch 4/10\n",
            "10177/10177 [==============================] - 1s 90us/step - loss: 0.3636 - acc: 0.9546\n",
            "Epoch 5/10\n",
            "10177/10177 [==============================] - 1s 89us/step - loss: 0.3636 - acc: 0.9546\n",
            "Epoch 6/10\n",
            "10177/10177 [==============================] - 1s 90us/step - loss: 0.3636 - acc: 0.9546\n",
            "Epoch 7/10\n",
            "10177/10177 [==============================] - 1s 89us/step - loss: 0.3636 - acc: 0.9546\n",
            "Epoch 8/10\n",
            "10177/10177 [==============================] - 1s 90us/step - loss: 0.3636 - acc: 0.9546\n",
            "Epoch 9/10\n",
            "10177/10177 [==============================] - 1s 89us/step - loss: 0.3636 - acc: 0.9546\n",
            "Epoch 10/10\n",
            "10177/10177 [==============================] - 1s 89us/step - loss: 0.3636 - acc: 0.9546\n",
            "\n",
            " -------------------------------------------  Collection Mode  ------------------------------------------- \n",
            "\n",
            "Total_no_values:  77988 \n",
            "HalfDataset:  4420 \n",
            "Percentage:  0.06008046976946498\n",
            "(8920, 4) (8920, 100)\n",
            "Epoch 1/10\n",
            "6244/6244 [==============================] - 1s 90us/step - loss: 0.2474 - acc: 0.7159\n",
            "Epoch 2/10\n",
            "6244/6244 [==============================] - 1s 93us/step - loss: 0.2474 - acc: 0.7159\n",
            "Epoch 3/10\n",
            "6244/6244 [==============================] - 1s 92us/step - loss: 0.2474 - acc: 0.7159\n",
            "Epoch 4/10\n",
            "6244/6244 [==============================] - 1s 91us/step - loss: 0.2474 - acc: 0.7159\n",
            "Epoch 5/10\n",
            "6244/6244 [==============================] - 1s 90us/step - loss: 0.2474 - acc: 0.7159\n",
            "Epoch 6/10\n",
            "6244/6244 [==============================] - 1s 90us/step - loss: 0.2474 - acc: 0.7159\n",
            "Epoch 7/10\n",
            "6244/6244 [==============================] - 1s 92us/step - loss: 0.2474 - acc: 0.7159\n",
            "Epoch 8/10\n",
            "6244/6244 [==============================] - 1s 91us/step - loss: 0.2474 - acc: 0.7159\n",
            "Epoch 9/10\n",
            "6244/6244 [==============================] - 1s 90us/step - loss: 0.2474 - acc: 0.7159\n",
            "Epoch 10/10\n",
            "6244/6244 [==============================] - 1s 91us/step - loss: 0.2474 - acc: 0.7159\n",
            "\n",
            " -------------------------------------------  Action First-Party  ------------------------------------------- \n",
            "\n",
            "Total_no_values:  77988 \n",
            "HalfDataset:  6605 \n",
            "Percentage:  0.09252903352338793\n",
            "(13282, 11) (13282, 100)\n",
            "Epoch 1/10\n",
            "9297/9297 [==============================] - 1s 103us/step - loss: 0.0909 - acc: 0.0000e+00\n",
            "Epoch 2/10\n",
            "9297/9297 [==============================] - 1s 90us/step - loss: 0.0909 - acc: 0.0000e+00\n",
            "Epoch 3/10\n",
            "9297/9297 [==============================] - 1s 90us/step - loss: 0.0909 - acc: 0.0000e+00\n",
            "Epoch 4/10\n",
            "9297/9297 [==============================] - 1s 90us/step - loss: 0.0909 - acc: 0.0000e+00\n",
            "Epoch 5/10\n",
            "9297/9297 [==============================] - 1s 91us/step - loss: 0.0909 - acc: 0.0000e+00\n",
            "Epoch 6/10\n",
            "9297/9297 [==============================] - 1s 91us/step - loss: 0.0909 - acc: 0.0000e+00\n",
            "Epoch 7/10\n",
            "9297/9297 [==============================] - 1s 90us/step - loss: 0.0909 - acc: 0.0000e+00\n",
            "Epoch 8/10\n",
            "9297/9297 [==============================] - 1s 89us/step - loss: 0.0909 - acc: 0.0000e+00\n",
            "Epoch 9/10\n",
            "9297/9297 [==============================] - 1s 91us/step - loss: 0.0909 - acc: 0.0000e+00\n",
            "Epoch 10/10\n",
            "9297/9297 [==============================] - 1s 90us/step - loss: 0.0909 - acc: 0.0000e+00\n",
            "\n",
            " -------------------------------------------  Identifiability  ------------------------------------------- \n",
            "\n",
            "Total_no_values:  77988 \n",
            "HalfDataset:  4185 \n",
            "Percentage:  0.05670501199138246\n",
            "(8442, 5) (8442, 100)\n",
            "Epoch 1/10\n",
            "5909/5909 [==============================] - 1s 90us/step - loss: 0.2000 - acc: 0.0000e+00\n",
            "Epoch 2/10\n",
            "5909/5909 [==============================] - 1s 91us/step - loss: 0.2000 - acc: 0.0000e+00\n",
            "Epoch 3/10\n",
            "5909/5909 [==============================] - 1s 90us/step - loss: 0.2000 - acc: 0.0000e+00\n",
            "Epoch 4/10\n",
            "5909/5909 [==============================] - 1s 91us/step - loss: 0.2000 - acc: 0.0000e+00\n",
            "Epoch 5/10\n",
            "5909/5909 [==============================] - 1s 90us/step - loss: 0.2000 - acc: 0.0000e+00\n",
            "Epoch 6/10\n",
            "5909/5909 [==============================] - 1s 91us/step - loss: 0.2000 - acc: 0.0000e+00\n",
            "Epoch 7/10\n",
            "5909/5909 [==============================] - 1s 90us/step - loss: 0.2000 - acc: 0.0000e+00\n",
            "Epoch 8/10\n",
            "5909/5909 [==============================] - 1s 90us/step - loss: 0.2000 - acc: 0.0000e+00\n",
            "Epoch 9/10\n",
            "5909/5909 [==============================] - 1s 90us/step - loss: 0.2000 - acc: 0.0000e+00\n",
            "Epoch 10/10\n",
            "5909/5909 [==============================] - 1s 91us/step - loss: 0.2000 - acc: 0.0000e+00\n",
            "\n",
            " -------------------------------------------  Personal Information Type  ------------------------------------------- \n",
            "\n",
            "Total_no_values:  77988 \n",
            "HalfDataset:  14370 \n",
            "Percentage:  0.2258794680750731\n",
            "(28808, 18) (28808, 100)\n",
            "Epoch 1/10\n",
            "20165/20165 [==============================] - 2s 90us/step - loss: 0.0554 - acc: 0.5191\n",
            "Epoch 2/10\n",
            "20165/20165 [==============================] - 2s 90us/step - loss: 0.0554 - acc: 0.5191\n",
            "Epoch 3/10\n",
            "20165/20165 [==============================] - 2s 90us/step - loss: 0.0554 - acc: 0.5191\n",
            "Epoch 4/10\n",
            "20165/20165 [==============================] - 2s 90us/step - loss: 0.0554 - acc: 0.5191\n",
            "Epoch 5/10\n",
            "20165/20165 [==============================] - 2s 89us/step - loss: 0.0554 - acc: 0.5191\n",
            "Epoch 6/10\n",
            "20165/20165 [==============================] - 2s 89us/step - loss: 0.0554 - acc: 0.5191\n",
            "Epoch 7/10\n",
            "20165/20165 [==============================] - 2s 90us/step - loss: 0.0554 - acc: 0.5191\n",
            "Epoch 8/10\n",
            "20165/20165 [==============================] - 2s 89us/step - loss: 0.0554 - acc: 0.5191\n",
            "Epoch 9/10\n",
            "20165/20165 [==============================] - 2s 89us/step - loss: 0.0554 - acc: 0.5191\n",
            "Epoch 10/10\n",
            "20165/20165 [==============================] - 2s 90us/step - loss: 0.0554 - acc: 0.5191\n",
            "\n",
            " -------------------------------------------  Purpose  ------------------------------------------- \n",
            "\n",
            "Total_no_values:  77988 \n",
            "HalfDataset:  12354 \n",
            "Percentage:  0.18822561477283115\n",
            "(24778, 13) (24778, 100)\n",
            "Epoch 1/10\n",
            "17344/17344 [==============================] - 2s 97us/step - loss: 0.0769 - acc: 0.0000e+00\n",
            "Epoch 2/10\n",
            "17344/17344 [==============================] - 2s 89us/step - loss: 0.0769 - acc: 0.0000e+00\n",
            "Epoch 3/10\n",
            "17344/17344 [==============================] - 2s 89us/step - loss: 0.0769 - acc: 0.0000e+00\n",
            "Epoch 4/10\n",
            "17344/17344 [==============================] - 2s 89us/step - loss: 0.0769 - acc: 0.0000e+00\n",
            "Epoch 5/10\n",
            "17344/17344 [==============================] - 2s 89us/step - loss: 0.0769 - acc: 0.0000e+00\n",
            "Epoch 6/10\n",
            "17344/17344 [==============================] - 2s 89us/step - loss: 0.0769 - acc: 0.0000e+00\n",
            "Epoch 7/10\n",
            "17344/17344 [==============================] - 2s 89us/step - loss: 0.0769 - acc: 0.0000e+00\n",
            "Epoch 8/10\n",
            "17344/17344 [==============================] - 2s 89us/step - loss: 0.0769 - acc: 0.0000e+00\n",
            "Epoch 9/10\n",
            "17344/17344 [==============================] - 2s 90us/step - loss: 0.0769 - acc: 0.0000e+00\n",
            "Epoch 10/10\n",
            "17344/17344 [==============================] - 2s 89us/step - loss: 0.0769 - acc: 0.0000e+00\n",
            "\n",
            " -------------------------------------------  User Type  ------------------------------------------- \n",
            "\n",
            "Total_no_values:  77988 \n",
            "HalfDataset:  1883 \n",
            "Percentage:  0.024742132579988176\n",
            "(3842, 5) (3842, 100)\n",
            "Epoch 1/10\n",
            "2689/2689 [==============================] - 0s 91us/step - loss: 0.2000 - acc: 0.0000e+00\n",
            "Epoch 2/10\n",
            "2689/2689 [==============================] - 0s 90us/step - loss: 0.2000 - acc: 0.0000e+00\n",
            "Epoch 3/10\n",
            "2689/2689 [==============================] - 0s 92us/step - loss: 0.2000 - acc: 0.0000e+00\n",
            "Epoch 4/10\n",
            "2689/2689 [==============================] - 0s 91us/step - loss: 0.2000 - acc: 0.0000e+00\n",
            "Epoch 5/10\n",
            "2689/2689 [==============================] - 0s 91us/step - loss: 0.2000 - acc: 0.0000e+00\n",
            "Epoch 6/10\n",
            "2689/2689 [==============================] - 0s 92us/step - loss: 0.2000 - acc: 0.0000e+00\n",
            "Epoch 7/10\n",
            "2689/2689 [==============================] - 0s 92us/step - loss: 0.2000 - acc: 0.0000e+00\n",
            "Epoch 8/10\n",
            "2689/2689 [==============================] - 0s 90us/step - loss: 0.2000 - acc: 0.0000e+00\n",
            "Epoch 9/10\n",
            "2689/2689 [==============================] - 0s 93us/step - loss: 0.2000 - acc: 0.0000e+00\n",
            "Epoch 10/10\n",
            "2689/2689 [==============================] - 0s 94us/step - loss: 0.2000 - acc: 0.0000e+00\n",
            "\n",
            " -------------------------------------------  Choice Type  ------------------------------------------- \n",
            "\n",
            "Total_no_values:  77988 \n",
            "HalfDataset:  4850 \n",
            "Percentage:  0.06631299734748011\n",
            "(9770, 10) (9770, 100)\n",
            "Epoch 1/10\n",
            "6839/6839 [==============================] - 1s 90us/step - loss: 0.0996 - acc: 0.5777\n",
            "Epoch 2/10\n",
            "6839/6839 [==============================] - 1s 91us/step - loss: 0.0996 - acc: 0.5777\n",
            "Epoch 3/10\n",
            "6839/6839 [==============================] - 1s 90us/step - loss: 0.0996 - acc: 0.5777\n",
            "Epoch 4/10\n",
            "6839/6839 [==============================] - 1s 90us/step - loss: 0.0996 - acc: 0.5777\n",
            "Epoch 5/10\n",
            "6839/6839 [==============================] - 1s 89us/step - loss: 0.0996 - acc: 0.5777\n",
            "Epoch 6/10\n",
            "6839/6839 [==============================] - 1s 91us/step - loss: 0.0996 - acc: 0.5777\n",
            "Epoch 7/10\n",
            "6839/6839 [==============================] - 1s 91us/step - loss: 0.0996 - acc: 0.5777\n",
            "Epoch 8/10\n",
            "6839/6839 [==============================] - 1s 90us/step - loss: 0.0996 - acc: 0.5777\n",
            "Epoch 9/10\n",
            "6839/6839 [==============================] - 1s 90us/step - loss: 0.0996 - acc: 0.5777\n",
            "Epoch 10/10\n",
            "6839/6839 [==============================] - 1s 90us/step - loss: 0.0996 - acc: 0.5777\n",
            "\n",
            " -------------------------------------------  Choice Scope  ------------------------------------------- \n",
            "\n",
            "Total_no_values:  77988 \n",
            "HalfDataset:  3460 \n",
            "Percentage:  0.04642550450837269\n",
            "(6993, 9) (6993, 100)\n",
            "Epoch 1/10\n",
            "4895/4895 [==============================] - 0s 90us/step - loss: 0.1111 - acc: 0.0000e+00\n",
            "Epoch 2/10\n",
            "4895/4895 [==============================] - 0s 89us/step - loss: 0.1111 - acc: 0.0000e+00\n",
            "Epoch 3/10\n",
            "4895/4895 [==============================] - 0s 90us/step - loss: 0.1111 - acc: 0.0000e+00\n",
            "Epoch 4/10\n",
            "4895/4895 [==============================] - 0s 88us/step - loss: 0.1111 - acc: 0.0000e+00\n",
            "Epoch 5/10\n",
            "4895/4895 [==============================] - 0s 90us/step - loss: 0.1111 - acc: 0.0000e+00\n",
            "Epoch 6/10\n",
            "4895/4895 [==============================] - 0s 89us/step - loss: 0.1111 - acc: 0.0000e+00\n",
            "Epoch 7/10\n",
            "4895/4895 [==============================] - 0s 90us/step - loss: 0.1111 - acc: 0.0000e+00\n",
            "Epoch 8/10\n",
            "4895/4895 [==============================] - 0s 91us/step - loss: 0.1111 - acc: 0.0000e+00\n",
            "Epoch 9/10\n",
            "4895/4895 [==============================] - 0s 90us/step - loss: 0.1111 - acc: 0.0000e+00\n",
            "Epoch 10/10\n",
            "4895/4895 [==============================] - 0s 91us/step - loss: 0.1111 - acc: 0.0000e+00\n",
            "\n",
            " -------------------------------------------  Third Party Entity  ------------------------------------------- \n",
            "\n",
            "Total_no_values:  77988 \n",
            "HalfDataset:  4786 \n",
            "Percentage:  0.06538072730253272\n",
            "(9645, 8) (9645, 100)\n",
            "Epoch 1/10\n",
            "6751/6751 [==============================] - 1s 92us/step - loss: 0.1244 - acc: 0.7574\n",
            "Epoch 2/10\n",
            "6751/6751 [==============================] - 1s 92us/step - loss: 0.1244 - acc: 0.7574\n",
            "Epoch 3/10\n",
            "6751/6751 [==============================] - 1s 93us/step - loss: 0.1244 - acc: 0.7574\n",
            "Epoch 4/10\n",
            "6751/6751 [==============================] - 1s 92us/step - loss: 0.1244 - acc: 0.7574\n",
            "Epoch 5/10\n",
            "6751/6751 [==============================] - 1s 92us/step - loss: 0.1244 - acc: 0.7574\n",
            "Epoch 6/10\n",
            "6751/6751 [==============================] - 1s 93us/step - loss: 0.1244 - acc: 0.7574\n",
            "Epoch 7/10\n",
            "6751/6751 [==============================] - 1s 90us/step - loss: 0.1244 - acc: 0.7574\n",
            "Epoch 8/10\n",
            "6751/6751 [==============================] - 1s 88us/step - loss: 0.1244 - acc: 0.7574\n",
            "Epoch 9/10\n",
            "6751/6751 [==============================] - 1s 89us/step - loss: 0.1244 - acc: 0.7574\n",
            "Epoch 10/10\n",
            "6751/6751 [==============================] - 1s 89us/step - loss: 0.1244 - acc: 0.7574\n",
            "\n",
            " -------------------------------------------  Action Third Party  ------------------------------------------- \n",
            "\n",
            "Total_no_values:  77988 \n",
            "HalfDataset:  5011 \n",
            "Percentage:  0.06866546994258466\n",
            "(10094, 7) (10094, 100)\n",
            "Epoch 1/10\n",
            "7065/7065 [==============================] - 1s 90us/step - loss: 0.1411 - acc: 0.8389\n",
            "Epoch 2/10\n",
            "7065/7065 [==============================] - 1s 90us/step - loss: 0.1411 - acc: 0.8389\n",
            "Epoch 3/10\n",
            "7065/7065 [==============================] - 1s 89us/step - loss: 0.1411 - acc: 0.8389\n",
            "Epoch 4/10\n",
            "7065/7065 [==============================] - 1s 89us/step - loss: 0.1411 - acc: 0.8389\n",
            "Epoch 5/10\n",
            "7065/7065 [==============================] - 1s 90us/step - loss: 0.1411 - acc: 0.8389\n",
            "Epoch 6/10\n",
            "7065/7065 [==============================] - 1s 90us/step - loss: 0.1411 - acc: 0.8389\n",
            "Epoch 7/10\n",
            "7065/7065 [==============================] - 1s 91us/step - loss: 0.1411 - acc: 0.8389\n",
            "Epoch 8/10\n",
            "7065/7065 [==============================] - 1s 91us/step - loss: 0.1411 - acc: 0.8389\n",
            "Epoch 9/10\n",
            "7065/7065 [==============================] - 1s 89us/step - loss: 0.1411 - acc: 0.8389\n",
            "Epoch 10/10\n",
            "7065/7065 [==============================] - 1s 89us/step - loss: 0.1411 - acc: 0.8389\n",
            "\n",
            " -------------------------------------------  Access Type  ------------------------------------------- \n",
            "\n",
            "Total_no_values:  77988 \n",
            "HalfDataset:  745 \n",
            "Percentage:  0.009644886915319187\n",
            "(1571, 10) (1571, 100)\n",
            "Epoch 1/10\n",
            "1099/1099 [==============================] - 0s 90us/step - loss: 0.1448 - acc: 0.2420\n",
            "Epoch 2/10\n",
            "1099/1099 [==============================] - 0s 96us/step - loss: 0.1448 - acc: 0.2420\n",
            "Epoch 3/10\n",
            "1099/1099 [==============================] - 0s 94us/step - loss: 0.1448 - acc: 0.2420\n",
            "Epoch 4/10\n",
            "1099/1099 [==============================] - 0s 95us/step - loss: 0.1448 - acc: 0.2420\n",
            "Epoch 5/10\n",
            "1099/1099 [==============================] - 0s 91us/step - loss: 0.1448 - acc: 0.2420\n",
            "Epoch 6/10\n",
            "1099/1099 [==============================] - 0s 91us/step - loss: 0.1448 - acc: 0.2420\n",
            "Epoch 7/10\n",
            "1099/1099 [==============================] - 0s 92us/step - loss: 0.1448 - acc: 0.2420\n",
            "Epoch 8/10\n",
            "1099/1099 [==============================] - 0s 95us/step - loss: 0.1448 - acc: 0.2420\n",
            "Epoch 9/10\n",
            "1099/1099 [==============================] - 0s 92us/step - loss: 0.1448 - acc: 0.2420\n",
            "Epoch 10/10\n",
            "1099/1099 [==============================] - 0s 93us/step - loss: 0.1448 - acc: 0.2420\n",
            "\n",
            " -------------------------------------------  Access Scope  ------------------------------------------- \n",
            "\n",
            "Total_no_values:  77988 \n",
            "HalfDataset:  623 \n",
            "Percentage:  0.008052737025786854\n",
            "(1330, 7) (1330, 100)\n",
            "Epoch 1/10\n",
            "930/930 [==============================] - 0s 91us/step - loss: 0.2197 - acc: 0.7527\n",
            "Epoch 2/10\n",
            "930/930 [==============================] - 0s 92us/step - loss: 0.2197 - acc: 0.7527\n",
            "Epoch 3/10\n",
            "930/930 [==============================] - 0s 93us/step - loss: 0.2197 - acc: 0.7527\n",
            "Epoch 4/10\n",
            "930/930 [==============================] - 0s 93us/step - loss: 0.2197 - acc: 0.7527\n",
            "Epoch 5/10\n",
            "930/930 [==============================] - 0s 95us/step - loss: 0.2197 - acc: 0.7527\n",
            "Epoch 6/10\n",
            "930/930 [==============================] - 0s 94us/step - loss: 0.2197 - acc: 0.7527\n",
            "Epoch 7/10\n",
            "930/930 [==============================] - 0s 99us/step - loss: 0.2197 - acc: 0.7527\n",
            "Epoch 8/10\n",
            "930/930 [==============================] - 0s 95us/step - loss: 0.2197 - acc: 0.7527\n",
            "Epoch 9/10\n",
            "930/930 [==============================] - 0s 97us/step - loss: 0.2197 - acc: 0.7527\n",
            "Epoch 10/10\n",
            "930/930 [==============================] - 0s 96us/step - loss: 0.2197 - acc: 0.7527\n",
            "\n",
            " -------------------------------------------  Retention Period  ------------------------------------------- \n",
            "\n",
            "Total_no_values:  77988 \n",
            "HalfDataset:  336 \n",
            "Percentage:  0.004326997372894452\n",
            "(763, 6) (763, 100)\n",
            "Epoch 1/10\n",
            "534/534 [==============================] - 0s 95us/step - loss: 0.2222 - acc: 0.2734\n",
            "Epoch 2/10\n",
            "534/534 [==============================] - 0s 94us/step - loss: 0.2222 - acc: 0.2734\n",
            "Epoch 3/10\n",
            "534/534 [==============================] - 0s 94us/step - loss: 0.2222 - acc: 0.2734\n",
            "Epoch 4/10\n",
            "534/534 [==============================] - 0s 98us/step - loss: 0.2222 - acc: 0.2734\n",
            "Epoch 5/10\n",
            "534/534 [==============================] - 0s 93us/step - loss: 0.2222 - acc: 0.2734\n",
            "Epoch 6/10\n",
            "534/534 [==============================] - 0s 101us/step - loss: 0.2222 - acc: 0.2734\n",
            "Epoch 7/10\n",
            "534/534 [==============================] - 0s 97us/step - loss: 0.2222 - acc: 0.2734\n",
            "Epoch 8/10\n",
            "534/534 [==============================] - 0s 93us/step - loss: 0.2222 - acc: 0.2734\n",
            "Epoch 9/10\n",
            "534/534 [==============================] - 0s 96us/step - loss: 0.2222 - acc: 0.2734\n",
            "Epoch 10/10\n",
            "534/534 [==============================] - 0s 98us/step - loss: 0.2222 - acc: 0.2734\n",
            "\n",
            " -------------------------------------------  Retention Purpose  ------------------------------------------- \n",
            "\n",
            "Total_no_values:  77988 \n",
            "HalfDataset:  287 \n",
            "Percentage:  0.0036936461564201235\n",
            "(658, 9) (658, 100)\n",
            "Epoch 1/10\n",
            "460/460 [==============================] - 0s 103us/step - loss: 0.1024 - acc: 0.7000\n",
            "Epoch 2/10\n",
            "460/460 [==============================] - 0s 101us/step - loss: 0.1024 - acc: 0.7000\n",
            "Epoch 3/10\n",
            "460/460 [==============================] - 0s 101us/step - loss: 0.1024 - acc: 0.7000\n",
            "Epoch 4/10\n",
            "460/460 [==============================] - 0s 102us/step - loss: 0.1024 - acc: 0.7000\n",
            "Epoch 5/10\n",
            "460/460 [==============================] - 0s 100us/step - loss: 0.1024 - acc: 0.7000\n",
            "Epoch 6/10\n",
            "460/460 [==============================] - 0s 103us/step - loss: 0.1024 - acc: 0.7000\n",
            "Epoch 7/10\n",
            "460/460 [==============================] - 0s 102us/step - loss: 0.1024 - acc: 0.7000\n",
            "Epoch 8/10\n",
            "460/460 [==============================] - 0s 103us/step - loss: 0.1024 - acc: 0.7000\n",
            "Epoch 9/10\n",
            "460/460 [==============================] - 0s 101us/step - loss: 0.1024 - acc: 0.7000\n",
            "Epoch 10/10\n",
            "460/460 [==============================] - 0s 102us/step - loss: 0.1024 - acc: 0.7000\n",
            "\n",
            " -------------------------------------------  Security Measure  ------------------------------------------- \n",
            "\n",
            "Total_no_values:  77988 \n",
            "HalfDataset:  1018 \n",
            "Percentage:  0.013225932181369365\n",
            "(2109, 11) (2109, 100)\n",
            "Epoch 1/10\n",
            "1476/1476 [==============================] - 0s 92us/step - loss: 0.0909 - acc: 0.0000e+00\n",
            "Epoch 2/10\n",
            "1476/1476 [==============================] - 0s 92us/step - loss: 0.0909 - acc: 0.0000e+00\n",
            "Epoch 3/10\n",
            "1476/1476 [==============================] - 0s 98us/step - loss: 0.0909 - acc: 0.0000e+00\n",
            "Epoch 4/10\n",
            "1476/1476 [==============================] - 0s 92us/step - loss: 0.0909 - acc: 0.0000e+00\n",
            "Epoch 5/10\n",
            "1476/1476 [==============================] - 0s 94us/step - loss: 0.0909 - acc: 0.0000e+00\n",
            "Epoch 6/10\n",
            "1476/1476 [==============================] - 0s 94us/step - loss: 0.0909 - acc: 0.0000e+00\n",
            "Epoch 7/10\n",
            "1476/1476 [==============================] - 0s 92us/step - loss: 0.0909 - acc: 0.0000e+00\n",
            "Epoch 8/10\n",
            "1476/1476 [==============================] - 0s 95us/step - loss: 0.0909 - acc: 0.0000e+00\n",
            "Epoch 9/10\n",
            "1476/1476 [==============================] - 0s 92us/step - loss: 0.0909 - acc: 0.0000e+00\n",
            "Epoch 10/10\n",
            "1476/1476 [==============================] - 0s 94us/step - loss: 0.0909 - acc: 0.0000e+00\n",
            "\n",
            " -------------------------------------------  Change Type  ------------------------------------------- \n",
            "\n",
            "Total_no_values:  77988 \n",
            "HalfDataset:  481 \n",
            "Percentage:  0.006205891080805604\n",
            "(1045, 6) (1045, 100)\n",
            "Epoch 1/10\n",
            "731/731 [==============================] - 0s 92us/step - loss: 0.1518 - acc: 0.5650\n",
            "Epoch 2/10\n",
            "731/731 [==============================] - 0s 90us/step - loss: 0.1518 - acc: 0.5650\n",
            "Epoch 3/10\n",
            "731/731 [==============================] - 0s 91us/step - loss: 0.1518 - acc: 0.5650\n",
            "Epoch 4/10\n",
            "731/731 [==============================] - 0s 92us/step - loss: 0.1518 - acc: 0.5650\n",
            "Epoch 5/10\n",
            "731/731 [==============================] - 0s 91us/step - loss: 0.1518 - acc: 0.5650\n",
            "Epoch 6/10\n",
            "731/731 [==============================] - 0s 91us/step - loss: 0.1518 - acc: 0.5650\n",
            "Epoch 7/10\n",
            "731/731 [==============================] - 0s 91us/step - loss: 0.1518 - acc: 0.5650\n",
            "Epoch 8/10\n",
            "731/731 [==============================] - 0s 91us/step - loss: 0.1518 - acc: 0.5650\n",
            "Epoch 9/10\n",
            "731/731 [==============================] - 0s 91us/step - loss: 0.1518 - acc: 0.5650\n",
            "Epoch 10/10\n",
            "731/731 [==============================] - 0s 93us/step - loss: 0.1518 - acc: 0.5650\n",
            "\n",
            " -------------------------------------------  Notification Type  ------------------------------------------- \n",
            "\n",
            "Total_no_values:  77988 \n",
            "HalfDataset:  505 \n",
            "Percentage:  0.006517558690293354\n",
            "(1091, 7) (1091, 100)\n",
            "Epoch 1/10\n",
            "763/763 [==============================] - 0s 88us/step - loss: 0.1359 - acc: 0.5491\n",
            "Epoch 2/10\n",
            "763/763 [==============================] - 0s 90us/step - loss: 0.1359 - acc: 0.5491\n",
            "Epoch 3/10\n",
            "763/763 [==============================] - 0s 91us/step - loss: 0.1359 - acc: 0.5491\n",
            "Epoch 4/10\n",
            "763/763 [==============================] - 0s 90us/step - loss: 0.1359 - acc: 0.5491\n",
            "Epoch 5/10\n",
            "763/763 [==============================] - 0s 89us/step - loss: 0.1359 - acc: 0.5491\n",
            "Epoch 6/10\n",
            "763/763 [==============================] - 0s 90us/step - loss: 0.1359 - acc: 0.5491\n",
            "Epoch 7/10\n",
            "763/763 [==============================] - 0s 92us/step - loss: 0.1359 - acc: 0.5491\n",
            "Epoch 8/10\n",
            "763/763 [==============================] - 0s 91us/step - loss: 0.1359 - acc: 0.5491\n",
            "Epoch 9/10\n",
            "763/763 [==============================] - 0s 91us/step - loss: 0.1359 - acc: 0.5491\n",
            "Epoch 10/10\n",
            "763/763 [==============================] - 0s 88us/step - loss: 0.1359 - acc: 0.5491\n",
            "\n",
            " -------------------------------------------  User Choice  ------------------------------------------- \n",
            "\n",
            "Total_no_values:  77988 \n",
            "HalfDataset:  255 \n",
            "Percentage:  0.0032804600362780286\n",
            "(599, 7) (599, 100)\n",
            "Epoch 1/10\n",
            "419/419 [==============================] - 0s 107us/step - loss: 0.1221 - acc: 0.6826\n",
            "Epoch 2/10\n",
            "419/419 [==============================] - 0s 104us/step - loss: 0.1221 - acc: 0.6826\n",
            "Epoch 3/10\n",
            "419/419 [==============================] - 0s 103us/step - loss: 0.1221 - acc: 0.6826\n",
            "Epoch 4/10\n",
            "419/419 [==============================] - 0s 102us/step - loss: 0.1221 - acc: 0.6826\n",
            "Epoch 5/10\n",
            "419/419 [==============================] - 0s 107us/step - loss: 0.1221 - acc: 0.6826\n",
            "Epoch 6/10\n",
            "419/419 [==============================] - 0s 102us/step - loss: 0.1221 - acc: 0.6826\n",
            "Epoch 7/10\n",
            "419/419 [==============================] - 0s 106us/step - loss: 0.1221 - acc: 0.6826\n",
            "Epoch 8/10\n",
            "419/419 [==============================] - 0s 111us/step - loss: 0.1221 - acc: 0.6826\n",
            "Epoch 9/10\n",
            "419/419 [==============================] - 0s 115us/step - loss: 0.1221 - acc: 0.6826\n",
            "Epoch 10/10\n",
            "419/419 [==============================] - 0s 103us/step - loss: 0.1221 - acc: 0.6826\n",
            "\n",
            " -------------------------------------------  Do Not Track policy  ------------------------------------------- \n",
            "\n",
            "Total_no_values:  77988 \n",
            "HalfDataset:  95 \n",
            "Percentage:  0.001219621788864211\n",
            "(290, 6) (290, 100)\n",
            "Epoch 1/10\n",
            "203/203 [==============================] - 0s 143us/step - loss: 0.1166 - acc: 0.6552\n",
            "Epoch 2/10\n",
            "203/203 [==============================] - 0s 155us/step - loss: 0.1166 - acc: 0.6552\n",
            "Epoch 3/10\n",
            "203/203 [==============================] - 0s 142us/step - loss: 0.1166 - acc: 0.6552\n",
            "Epoch 4/10\n",
            "203/203 [==============================] - 0s 123us/step - loss: 0.1166 - acc: 0.6552\n",
            "Epoch 5/10\n",
            "203/203 [==============================] - 0s 135us/step - loss: 0.1166 - acc: 0.6552\n",
            "Epoch 6/10\n",
            "203/203 [==============================] - 0s 137us/step - loss: 0.1166 - acc: 0.6552\n",
            "Epoch 7/10\n",
            "203/203 [==============================] - 0s 150us/step - loss: 0.1166 - acc: 0.6552\n",
            "Epoch 8/10\n",
            "203/203 [==============================] - 0s 157us/step - loss: 0.1166 - acc: 0.6552\n",
            "Epoch 9/10\n",
            "203/203 [==============================] - 0s 138us/step - loss: 0.1166 - acc: 0.6552\n",
            "Epoch 10/10\n",
            "203/203 [==============================] - 0s 144us/step - loss: 0.1166 - acc: 0.6552\n",
            "\n",
            " -------------------------------------------  Audience Type  ------------------------------------------- \n",
            "\n",
            "Total_no_values:  77988 \n",
            "HalfDataset:  942 \n",
            "Percentage:  0.01222646211354256\n",
            "(1962, 6) (1962, 100)\n",
            "Epoch 1/10\n",
            "1373/1373 [==============================] - 0s 89us/step - loss: 0.1595 - acc: 0.6286\n",
            "Epoch 2/10\n",
            "1373/1373 [==============================] - 0s 93us/step - loss: 0.1595 - acc: 0.6286\n",
            "Epoch 3/10\n",
            "1373/1373 [==============================] - 0s 91us/step - loss: 0.1595 - acc: 0.6286\n",
            "Epoch 4/10\n",
            "1373/1373 [==============================] - 0s 91us/step - loss: 0.1595 - acc: 0.6286\n",
            "Epoch 5/10\n",
            "1373/1373 [==============================] - 0s 91us/step - loss: 0.1595 - acc: 0.6286\n",
            "Epoch 6/10\n",
            "1373/1373 [==============================] - 0s 93us/step - loss: 0.1595 - acc: 0.6286\n",
            "Epoch 7/10\n",
            "1373/1373 [==============================] - 0s 90us/step - loss: 0.1595 - acc: 0.6286\n",
            "Epoch 8/10\n",
            "1373/1373 [==============================] - 0s 92us/step - loss: 0.1595 - acc: 0.6286\n",
            "Epoch 9/10\n",
            "1373/1373 [==============================] - 0s 90us/step - loss: 0.1595 - acc: 0.6286\n",
            "Epoch 10/10\n",
            "1373/1373 [==============================] - 0s 90us/step - loss: 0.1595 - acc: 0.6286\n",
            "\n",
            " -------------------------------------------  Other Type  ------------------------------------------- \n",
            "\n",
            "Total_no_values:  77988 \n",
            "HalfDataset:  3548 \n",
            "Percentage:  0.047662547017732405\n",
            "(7171, 5) (7171, 100)\n",
            "Epoch 1/10\n",
            "5019/5019 [==============================] - 1s 110us/step - loss: 0.2000 - acc: 0.0000e+00\n",
            "Epoch 2/10\n",
            "5019/5019 [==============================] - 0s 93us/step - loss: 0.2000 - acc: 0.0000e+00\n",
            "Epoch 3/10\n",
            "5019/5019 [==============================] - 0s 91us/step - loss: 0.2000 - acc: 0.0000e+00\n",
            "Epoch 4/10\n",
            "5019/5019 [==============================] - 0s 91us/step - loss: 0.2000 - acc: 0.0000e+00\n",
            "Epoch 5/10\n",
            "5019/5019 [==============================] - 0s 92us/step - loss: 0.2000 - acc: 0.0000e+00\n",
            "Epoch 6/10\n",
            "5019/5019 [==============================] - 0s 91us/step - loss: 0.2000 - acc: 0.0000e+00\n",
            "Epoch 7/10\n",
            "5019/5019 [==============================] - 0s 90us/step - loss: 0.2000 - acc: 0.0000e+00\n",
            "Epoch 8/10\n",
            "5019/5019 [==============================] - 0s 92us/step - loss: 0.2000 - acc: 0.0000e+00\n",
            "Epoch 9/10\n",
            "5019/5019 [==============================] - 0s 91us/step - loss: 0.2000 - acc: 0.0000e+00\n",
            "Epoch 10/10\n",
            "5019/5019 [==============================] - 0s 92us/step - loss: 0.2000 - acc: 0.0000e+00\n"
          ],
          "name": "stdout"
        }
      ]
    },
    {
      "metadata": {
        "id": "sRogMXI7XQRD",
        "colab_type": "code",
        "colab": {
          "base_uri": "https://localhost:8080/",
          "height": 408
        },
        "outputId": "f1f7c102-5e30-40e5-8d0a-c4bc72ae5619"
      },
      "cell_type": "code",
      "source": [
        "# for k in attributeNames:\n",
        "#   for kk in attribute_n_values_index[k]:\n",
        "sen =  attribute_n_values[attributeNames[0]][attribute_n_values_index[attributeNames[0]][0]].split(\"|\")[0]\n",
        "# sen = np.expand_dims(np.expand_dims(s2V(sen), axis=0), axis=-1)\n",
        "sen = np.expand_dims(np.expand_dims(secVectors[0], axis=0), axis=-1)\n",
        "print (attributeNames[-3],\"<\" , attribute_n_values_index[attributeNames[-3]][-1],\"<\" ,sen.shape)\n",
        "for i in range(len(models)):\n",
        "  \n",
        "  \n",
        "  print (models[i].predict(sen))\n",
        "      "
      ],
      "execution_count": 70,
      "outputs": [
        {
          "output_type": "stream",
          "text": [
            "Do Not Track policy < Other < (1, 100, 1)\n",
            "[[0. 0. 0.]]\n",
            "[[0. 0. 0. 0.]]\n",
            "[[0. 0. 0. 0. 0. 0. 0. 0. 0. 0. 0.]]\n",
            "[[0. 0. 0. 0. 0.]]\n",
            "[[0. 0. 0. 0. 0. 0. 0. 0. 0. 0. 0. 0. 0. 0. 0. 0. 0. 0.]]\n",
            "[[0. 0. 0. 0. 0. 0. 0. 0. 0. 0. 0. 0. 0.]]\n",
            "[[0. 0. 0. 0. 0.]]\n",
            "[[0. 0. 0. 0. 0. 0. 0. 0. 0. 0.]]\n",
            "[[0. 0. 0. 0. 0. 0. 0. 0. 0.]]\n",
            "[[0. 0. 0. 0. 0. 0. 0. 0.]]\n",
            "[[0. 0. 0. 0. 0. 0. 0.]]\n",
            "[[0. 0. 0. 0. 0. 0. 0. 0. 0. 0.]]\n",
            "[[0. 0. 0. 0. 0. 0. 0.]]\n",
            "[[0. 0. 0. 0. 0. 0.]]\n",
            "[[0. 0. 0. 0. 0. 0. 0. 0. 0.]]\n",
            "[[0. 0. 0. 0. 0. 0. 0. 0. 0. 0. 0.]]\n",
            "[[0. 0. 0. 0. 0. 0.]]\n",
            "[[0. 0. 0. 0. 0. 0. 0.]]\n",
            "[[0. 0. 0. 0. 0. 0. 0.]]\n",
            "[[0. 0. 0. 0. 0. 0.]]\n",
            "[[0. 0. 0. 0. 0. 0.]]\n",
            "[[0. 0. 0. 0. 0.]]\n"
          ],
          "name": "stdout"
        }
      ]
    },
    {
      "metadata": {
        "id": "hGT9pKO7nH6M",
        "colab_type": "code",
        "colab": {}
      },
      "cell_type": "code",
      "source": [
        "# "
      ],
      "execution_count": 0,
      "outputs": []
    }
  ]
}