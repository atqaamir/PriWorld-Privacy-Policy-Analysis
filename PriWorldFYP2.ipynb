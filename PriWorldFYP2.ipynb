{
  "nbformat": 4,
  "nbformat_minor": 0,
  "metadata": {
    "colab": {
      "name": "PriWorldFYP2.ipynb",
      "version": "0.3.2",
      "provenance": [],
      "collapsed_sections": [],
      "include_colab_link": true
    },
    "kernelspec": {
      "name": "python2",
      "display_name": "Python 2"
    },
    "accelerator": "GPU"
  },
  "cells": [
    {
      "cell_type": "markdown",
      "metadata": {
        "id": "view-in-github",
        "colab_type": "text"
      },
      "source": [
        "<a href=\"https://colab.research.google.com/github/atqaamir/PriWorld-Privacy-Policy-Analysis/blob/convolutionNN/PriWorldFYP2.ipynb\" target=\"_parent\"><img src=\"https://colab.research.google.com/assets/colab-badge.svg\" alt=\"Open In Colab\"/></a>"
      ]
    },
    {
      "metadata": {
        "id": "7UxqgYACa02f",
        "colab_type": "code",
        "outputId": "caf321d3-9014-45a4-e902-a72dcb82f40d",
        "colab": {
          "base_uri": "https://localhost:8080/",
          "height": 68
        }
      },
      "cell_type": "code",
      "source": [
        "import keras\n",
        "from google.colab import files\n",
        "from __future__ import print_function\n",
        "from keras.preprocessing.image import ImageDataGenerator\n",
        "from keras.layers import Conv2D, MaxPooling2D , Conv2DTranspose#, Conv2DTranspose\n",
        "from keras.utils import np_utils\n",
        "from keras.preprocessing.text import Tokenizer\n",
        "from keras.preprocessing.sequence import pad_sequences\n",
        "from keras.models import Sequential\n",
        "from keras.layers import Dense, Flatten, LSTM, Conv1D, MaxPooling1D, Dropout, Activation\n",
        "from keras.layers.embeddings import Embedding\n",
        "from keras.layers import Input, Dense\n",
        "from keras.models import Model\n",
        "\n",
        "import nltk\n",
        "nltk.download('wordnet')\n",
        "from nltk.stem import WordNetLemmatizer\n",
        "import os\n",
        "import csv\n",
        "import pandas as pd\n",
        "import io\n",
        "from skimage import io\n",
        "import numpy as np\n",
        "import re"
      ],
      "execution_count": 1,
      "outputs": [
        {
          "output_type": "stream",
          "text": [
            "Using TensorFlow backend.\n"
          ],
          "name": "stderr"
        },
        {
          "output_type": "stream",
          "text": [
            "[nltk_data] Downloading package wordnet to /root/nltk_data...\n",
            "[nltk_data]   Package wordnet is already up-to-date!\n"
          ],
          "name": "stdout"
        }
      ]
    },
    {
      "metadata": {
        "id": "t13wj46MNtDo",
        "colab_type": "code",
        "outputId": "95c82d7f-72ca-4ead-a026-0c1f7c520d7d",
        "colab": {
          "base_uri": "https://localhost:8080/",
          "height": 34
        }
      },
      "cell_type": "code",
      "source": [
        "from keras.layers import Conv1D\n",
        "from google.colab import drive\n",
        "drive.mount('/content/drive',force_remount=True)\n"
      ],
      "execution_count": 2,
      "outputs": [
        {
          "output_type": "stream",
          "text": [
            "Mounted at /content/drive\n"
          ],
          "name": "stdout"
        }
      ]
    },
    {
      "metadata": {
        "id": "s88Q2p1z53jt",
        "colab_type": "code",
        "outputId": "978bdde8-f4d1-4b45-fcae-18b66f7a3257",
        "colab": {
          "base_uri": "https://localhost:8080/",
          "height": 360
        }
      },
      "cell_type": "code",
      "source": [
        "!pip install gensim "
      ],
      "execution_count": 3,
      "outputs": [
        {
          "output_type": "stream",
          "text": [
            "Requirement already satisfied: gensim in /usr/local/lib/python2.7/dist-packages (3.6.0)\n",
            "Requirement already satisfied: smart-open>=1.2.1 in /usr/local/lib/python2.7/dist-packages (from gensim) (1.8.0)\n",
            "Requirement already satisfied: six>=1.5.0 in /usr/local/lib/python2.7/dist-packages (from gensim) (1.11.0)\n",
            "Requirement already satisfied: scipy>=0.18.1 in /usr/local/lib/python2.7/dist-packages (from gensim) (1.1.0)\n",
            "Requirement already satisfied: numpy>=1.11.3 in /usr/local/lib/python2.7/dist-packages (from gensim) (1.14.6)\n",
            "Requirement already satisfied: boto>=2.32 in /usr/local/lib/python2.7/dist-packages (from smart-open>=1.2.1->gensim) (2.49.0)\n",
            "Requirement already satisfied: bz2file in /usr/local/lib/python2.7/dist-packages (from smart-open>=1.2.1->gensim) (0.98)\n",
            "Requirement already satisfied: requests in /usr/local/lib/python2.7/dist-packages (from smart-open>=1.2.1->gensim) (2.18.4)\n",
            "Requirement already satisfied: boto3 in /usr/local/lib/python2.7/dist-packages (from smart-open>=1.2.1->gensim) (1.9.86)\n",
            "Requirement already satisfied: idna<2.7,>=2.5 in /usr/local/lib/python2.7/dist-packages (from requests->smart-open>=1.2.1->gensim) (2.6)\n",
            "Requirement already satisfied: urllib3<1.23,>=1.21.1 in /usr/local/lib/python2.7/dist-packages (from requests->smart-open>=1.2.1->gensim) (1.22)\n",
            "Requirement already satisfied: certifi>=2017.4.17 in /usr/local/lib/python2.7/dist-packages (from requests->smart-open>=1.2.1->gensim) (2018.11.29)\n",
            "Requirement already satisfied: chardet<3.1.0,>=3.0.2 in /usr/local/lib/python2.7/dist-packages (from requests->smart-open>=1.2.1->gensim) (3.0.4)\n",
            "Requirement already satisfied: jmespath<1.0.0,>=0.7.1 in /usr/local/lib/python2.7/dist-packages (from boto3->smart-open>=1.2.1->gensim) (0.9.3)\n",
            "Requirement already satisfied: botocore<1.13.0,>=1.12.86 in /usr/local/lib/python2.7/dist-packages (from boto3->smart-open>=1.2.1->gensim) (1.12.86)\n",
            "Requirement already satisfied: s3transfer<0.2.0,>=0.1.10 in /usr/local/lib/python2.7/dist-packages (from boto3->smart-open>=1.2.1->gensim) (0.1.13)\n",
            "Requirement already satisfied: docutils>=0.10 in /usr/local/lib/python2.7/dist-packages (from botocore<1.13.0,>=1.12.86->boto3->smart-open>=1.2.1->gensim) (0.14)\n",
            "Requirement already satisfied: python-dateutil<3.0.0,>=2.1; python_version >= \"2.7\" in /usr/local/lib/python2.7/dist-packages (from botocore<1.13.0,>=1.12.86->boto3->smart-open>=1.2.1->gensim) (2.5.3)\n",
            "Requirement already satisfied: futures<4.0.0,>=2.2.0; python_version == \"2.6\" or python_version == \"2.7\" in /usr/local/lib/python2.7/dist-packages (from s3transfer<0.2.0,>=0.1.10->boto3->smart-open>=1.2.1->gensim) (3.2.0)\n"
          ],
          "name": "stdout"
        }
      ]
    },
    {
      "metadata": {
        "id": "s9yWlbQVEYlN",
        "colab_type": "code",
        "outputId": "a64bb565-dbcc-4a1f-d150-dcb9e44e74cb",
        "colab": {
          "base_uri": "https://localhost:8080/",
          "height": 51
        }
      },
      "cell_type": "code",
      "source": [
        "\n",
        "!ls \"/content/drive/My Drive/FYP/Final Year Project Code/5Nov\""
      ],
      "execution_count": 4,
      "outputs": [
        {
          "output_type": "stream",
          "text": [
            "customizedWord2Vec.csv\tFYPv5.2_letterTrigram.ipynb  PP_sentences.txt\n",
            "FYPv5.1_Padding.ipynb\tFYPv5.ipynb\t\t     withoutlemmaTri.csv\n"
          ],
          "name": "stdout"
        }
      ]
    },
    {
      "metadata": {
        "id": "fREcFNUvHaCs",
        "colab_type": "code",
        "colab": {}
      },
      "cell_type": "code",
      "source": [
        "#model = gensim.models.KeyedVectors.load_word2vec_format('./GoogleNews-vectors-negative300.bin', binary=True)"
      ],
      "execution_count": 0,
      "outputs": []
    },
    {
      "metadata": {
        "id": "DuNrwRPs-C_e",
        "colab_type": "code",
        "colab": {}
      },
      "cell_type": "code",
      "source": [
        "documents = open('/content/drive/My Drive/FYP/Final Year Project Code/dataSet.txt')"
      ],
      "execution_count": 0,
      "outputs": []
    },
    {
      "metadata": {
        "id": "tr0E9WcxJSEI",
        "colab_type": "code",
        "colab": {}
      },
      "cell_type": "code",
      "source": [
        "labels = open('/content/drive/My Drive/FYP/Final Year Project Code/labels.txt')"
      ],
      "execution_count": 0,
      "outputs": []
    },
    {
      "metadata": {
        "id": "j-HChlAD-PtT",
        "colab_type": "code",
        "colab": {}
      },
      "cell_type": "code",
      "source": [
        "Xdata = documents.readlines()\n",
        "Y = labels.readlines()"
      ],
      "execution_count": 0,
      "outputs": []
    },
    {
      "metadata": {
        "id": "8fopZwv3CNZI",
        "colab_type": "code",
        "outputId": "d7a29c7c-d43d-4061-8c7e-8016b4e229aa",
        "colab": {
          "base_uri": "https://localhost:8080/",
          "height": 207
        }
      },
      "cell_type": "code",
      "source": [
        "Xdata[:5],Y[:5]"
      ],
      "execution_count": 8,
      "outputs": [
        {
          "output_type": "execute_result",
          "data": {
            "text/plain": [
              "(['   Block the repeated delivery of the survey either in the current visit or in any subsequent visit    Record only that the visitor had the opportunity to answer the survey questions    Expire  days after being set    Reduce the burden on visitors to the site by avoiding repeated delivery of the popup survey \\n',\n",
              "  '   Collect any information about visitors    Track the web surfing activities of visitors    Indicate whether a visitor answered any questions    Link a particular visitor to any response of set of responses to the survey \\n',\n",
              "  '   Conduct market research and audience analysis    For any other purpose described at the point of collection or with your consent\\n',\n",
              "  '   Cookies are unique identifiers that we transfer to your device to enable our systems to recognize your device and to provide features such as Click purchasing Recommended for You  personalized advertisements on other Web sites e.g\\n',\n",
              "  '   Device informationsuch as your hardware model IP address other unique device identifiers operating system version and settings of the device you use to access the Services\\n'],\n",
              " ['first party collection/use\\n',\n",
              "  'first party collection/use\\n',\n",
              "  'first party collection/use\\n',\n",
              "  'first party collection/use\\n',\n",
              "  'first party collection/use\\n'])"
            ]
          },
          "metadata": {
            "tags": []
          },
          "execution_count": 8
        }
      ]
    },
    {
      "metadata": {
        "id": "pTOZslPKERFo",
        "colab_type": "code",
        "colab": {}
      },
      "cell_type": "code",
      "source": [
        "# file.close()"
      ],
      "execution_count": 0,
      "outputs": []
    },
    {
      "metadata": {
        "id": "QyJaaq9-DqJJ",
        "colab_type": "code",
        "outputId": "d7d855ca-f45b-4419-ef7c-afdb40013e69",
        "colab": {
          "base_uri": "https://localhost:8080/",
          "height": 207
        }
      },
      "cell_type": "code",
      "source": [
        "cleanX = []\n",
        "cleanY = []\n",
        "for i in range(len(Xdata)):\n",
        "  cleanX.append(Xdata[i].replace('\\n','').replace('[!\"#$%&\\'()*+,-./:;<=>?@[\\\\]^_`{|}~]',''))\n",
        "  cleanY.append(Y[i].replace('\\n',''))\n",
        "cleanX[:5],cleanY[:5]"
      ],
      "execution_count": 10,
      "outputs": [
        {
          "output_type": "execute_result",
          "data": {
            "text/plain": [
              "(['   Block the repeated delivery of the survey either in the current visit or in any subsequent visit    Record only that the visitor had the opportunity to answer the survey questions    Expire  days after being set    Reduce the burden on visitors to the site by avoiding repeated delivery of the popup survey ',\n",
              "  '   Collect any information about visitors    Track the web surfing activities of visitors    Indicate whether a visitor answered any questions    Link a particular visitor to any response of set of responses to the survey ',\n",
              "  '   Conduct market research and audience analysis    For any other purpose described at the point of collection or with your consent',\n",
              "  '   Cookies are unique identifiers that we transfer to your device to enable our systems to recognize your device and to provide features such as Click purchasing Recommended for You  personalized advertisements on other Web sites e.g',\n",
              "  '   Device informationsuch as your hardware model IP address other unique device identifiers operating system version and settings of the device you use to access the Services'],\n",
              " ['first party collection/use',\n",
              "  'first party collection/use',\n",
              "  'first party collection/use',\n",
              "  'first party collection/use',\n",
              "  'first party collection/use'])"
            ]
          },
          "metadata": {
            "tags": []
          },
          "execution_count": 10
        }
      ]
    },
    {
      "metadata": {
        "id": "_K9TBksVG7wz",
        "colab_type": "code",
        "colab": {}
      },
      "cell_type": "code",
      "source": [
        "def parse_string(string): \n",
        "#     string = string.replace('_','')\n",
        "#     string = string.replace('-','')\n",
        "#     string = re.sub(\"[^a-zA-Z]\",' ',string)\n",
        "    string = ' '.join(string.split())\n",
        "    token_list = list(string.split())\n",
        "    \n",
        "    return token_list\n"
      ],
      "execution_count": 0,
      "outputs": []
    },
    {
      "metadata": {
        "id": "X2f2bNbgFXMx",
        "colab_type": "code",
        "colab": {}
      },
      "cell_type": "code",
      "source": [
        "text_list=[]\n",
        "X=np.array(cleanX)\n",
        "\n",
        "# print len(X)\n",
        "# print X[1]\n",
        "for iterator in range(0,len(X)):\n",
        "    text_list.append(parse_string(str(X[iterator])))"
      ],
      "execution_count": 0,
      "outputs": []
    },
    {
      "metadata": {
        "id": "Lk4c78LNHSWW",
        "colab_type": "code",
        "colab": {}
      },
      "cell_type": "code",
      "source": [
        "from gensim.models import Word2Vec\n",
        "import pandas as pd\n",
        "import numpy as np\n",
        "import nltk\n",
        "import re\n",
        "import bs4\n",
        "import gensim.downloader as api"
      ],
      "execution_count": 0,
      "outputs": []
    },
    {
      "metadata": {
        "id": "8P50dxehHMm2",
        "colab_type": "code",
        "outputId": "88279a23-7fc5-4d55-fd35-9847afe311a7",
        "colab": {
          "base_uri": "https://localhost:8080/",
          "height": 34
        }
      },
      "cell_type": "code",
      "source": [
        "model = Word2Vec(text_list, min_count=1, compute_loss=True, size=100)\n",
        "# # summarize the loaded model\n",
        "print(model)"
      ],
      "execution_count": 15,
      "outputs": [
        {
          "output_type": "stream",
          "text": [
            "Word2Vec(vocab=5215, size=100, alpha=0.025)\n"
          ],
          "name": "stdout"
        }
      ]
    },
    {
      "metadata": {
        "id": "ZskfhAR5s7Cp",
        "colab_type": "code",
        "colab": {}
      },
      "cell_type": "code",
      "source": [
        "model = Word2Vec.load('/content/drive/My Drive/FYP/Final Year Project Code/PP_word2vec_new.bin')"
      ],
      "execution_count": 0,
      "outputs": []
    },
    {
      "metadata": {
        "id": "-tpv5m6hKfWi",
        "colab_type": "code",
        "outputId": "79bf7345-9278-42d1-cfd9-597899e28a5a",
        "colab": {
          "base_uri": "https://localhost:8080/",
          "height": 51
        }
      },
      "cell_type": "code",
      "source": [
        "for count in range(0,2):\n",
        "    model.train(text_list,total_examples=len(text_list), epochs=500, compute_loss=True,start_alpha=0.1)\n",
        "    print (model.get_latest_training_loss())"
      ],
      "execution_count": 17,
      "outputs": [
        {
          "output_type": "stream",
          "text": [
            "94172.8046875\n",
            "90685.1015625\n"
          ],
          "name": "stdout"
        }
      ]
    },
    {
      "metadata": {
        "id": "rogY5glEK4CX",
        "colab_type": "code",
        "colab": {}
      },
      "cell_type": "code",
      "source": [
        "# save model\n",
        "model.save('/content/drive/My Drive/FYP/Final Year Project Code/PP_word2vec_new.bin')\n",
        "# # load model\n"
      ],
      "execution_count": 0,
      "outputs": []
    },
    {
      "metadata": {
        "id": "3FUuKAibKtT7",
        "colab_type": "code",
        "colab": {}
      },
      "cell_type": "code",
      "source": [
        "\n",
        "def s2V(s):\n",
        "  \n",
        "  sent = np.zeros((100,))\n",
        "  \n",
        "  for w in s.split() :\n",
        "#     #print (np.array(df[Lemmatization(w)]).shape)\n",
        "#     print (sent)\n",
        "#     print (model[w])\n",
        "    sent += np.array(model[w])\n",
        "  \n",
        "  return np.array(sent)\n",
        "\n"
      ],
      "execution_count": 0,
      "outputs": []
    },
    {
      "metadata": {
        "id": "HzRIUhPF_8S3",
        "colab_type": "code",
        "outputId": "dbc5a033-cc45-4e70-c1b1-b63ca516e332",
        "colab": {
          "base_uri": "https://localhost:8080/",
          "height": 71
        }
      },
      "cell_type": "code",
      "source": [
        "\n",
        "secVectors = []\n",
        "cleanX[0]\n",
        "for sen in cleanX:\n",
        "  secVectors.append(s2V(sen))\n"
      ],
      "execution_count": 28,
      "outputs": [
        {
          "output_type": "stream",
          "text": [
            "/usr/local/lib/python2.7/dist-packages/ipykernel_launcher.py:10: DeprecationWarning: Call to deprecated `__getitem__` (Method will be removed in 4.0.0, use self.wv.__getitem__() instead).\n",
            "  # Remove the CWD from sys.path while we load stuff.\n"
          ],
          "name": "stderr"
        }
      ]
    },
    {
      "metadata": {
        "id": "izarwsLLuuzf",
        "colab_type": "code",
        "colab": {
          "base_uri": "https://localhost:8080/",
          "height": 102
        },
        "outputId": "6b7725af-4584-4b79-ee30-7bf1c6bf592c"
      },
      "cell_type": "code",
      "source": [
        "np.unique(np.array(cleanY))"
      ],
      "execution_count": 29,
      "outputs": [
        {
          "output_type": "execute_result",
          "data": {
            "text/plain": [
              "array(['data retention', 'data security', 'do not track',\n",
              "       'first party collection/use',\n",
              "       'international and specific audiences', 'other', 'policy change',\n",
              "       'third party sharing/collection', 'user access, edit and deletion',\n",
              "       'user choice/control'], dtype='|S36')"
            ]
          },
          "metadata": {
            "tags": []
          },
          "execution_count": 29
        }
      ]
    },
    {
      "metadata": {
        "id": "XA6SKxtTrw_j",
        "colab_type": "code",
        "colab": {
          "base_uri": "https://localhost:8080/",
          "height": 51
        },
        "outputId": "75ffc48d-b6a3-44b1-cec1-45e6ed2adb17"
      },
      "cell_type": "code",
      "source": [
        "\n",
        "print (np.shape(cleanX))\n",
        "print (np.shape(secVectors))\n",
        "  "
      ],
      "execution_count": 30,
      "outputs": [
        {
          "output_type": "stream",
          "text": [
            "(4734,)\n",
            "(4734, 100)\n"
          ],
          "name": "stdout"
        }
      ]
    },
    {
      "metadata": {
        "id": "36WmOYNdQa88",
        "colab_type": "code",
        "outputId": "b6cda2c3-9256-4e3e-ed7b-5d5098b7d42c",
        "colab": {
          "base_uri": "https://localhost:8080/",
          "height": 34
        }
      },
      "cell_type": "code",
      "source": [
        "trainsize = int(np.array(secVectors).shape[0]*0.75)\n",
        "trainsize"
      ],
      "execution_count": 31,
      "outputs": [
        {
          "output_type": "execute_result",
          "data": {
            "text/plain": [
              "3550"
            ]
          },
          "metadata": {
            "tags": []
          },
          "execution_count": 31
        }
      ]
    },
    {
      "metadata": {
        "id": "M7visd4n5s-w",
        "colab_type": "code",
        "colab": {}
      },
      "cell_type": "code",
      "source": [
        "secVectors = np.array(secVectors).reshape((4734, 100, 1))\n",
        "s = np.arange((secVectors).shape[0])\n",
        "np.random.shuffle(s)\n",
        "secVectors = secVectors[s]"
      ],
      "execution_count": 0,
      "outputs": []
    },
    {
      "metadata": {
        "id": "WBPBTBWSbt-w",
        "colab_type": "code",
        "colab": {}
      },
      "cell_type": "code",
      "source": [
        "\n",
        "# define model\n",
        "\n",
        "model = Sequential()\n",
        "\n",
        "model.add(Conv1D( 200,3, activation='relu',input_shape=np.shape(secVectors)[1:],kernel_initializer='glorot_uniform') )\n",
        "\n",
        "model.add(MaxPooling1D(pool_size=2))\n",
        "model.add(Conv1D(150,3, activation='relu'))\n",
        "model.add(MaxPooling1D(pool_size=2))\n",
        "model.add(Conv1D(100,3, activation='relu'))\n",
        "model.add(MaxPooling1D(pool_size=2))\n",
        "          \n",
        "model.add(Dense(50, activation = \"relu\"))\n",
        "model.add(Flatten())\n",
        "model.add(Dense(10, activation = \"sigmoid\"))\n"
      ],
      "execution_count": 0,
      "outputs": []
    },
    {
      "metadata": {
        "id": "nXfpO9uUTd4T",
        "colab_type": "code",
        "outputId": "f3ff5718-b079-4069-8541-ddd67b4f6a27",
        "colab": {
          "base_uri": "https://localhost:8080/",
          "height": 459
        }
      },
      "cell_type": "code",
      "source": [
        "sgd = keras.optimizers.SGD(lr = 0.05)\n",
        "adam = keras.optimizers.Adam(lr=0.1)\n",
        "model.compile(optimizer=adam, loss='mean_squared_error', metrics=['acc'])\n",
        "print (model.summary())\n"
      ],
      "execution_count": 35,
      "outputs": [
        {
          "output_type": "stream",
          "text": [
            "_________________________________________________________________\n",
            "Layer (type)                 Output Shape              Param #   \n",
            "=================================================================\n",
            "conv1d_1 (Conv1D)            (None, 98, 200)           800       \n",
            "_________________________________________________________________\n",
            "max_pooling1d_1 (MaxPooling1 (None, 49, 200)           0         \n",
            "_________________________________________________________________\n",
            "conv1d_2 (Conv1D)            (None, 47, 150)           90150     \n",
            "_________________________________________________________________\n",
            "max_pooling1d_2 (MaxPooling1 (None, 23, 150)           0         \n",
            "_________________________________________________________________\n",
            "conv1d_3 (Conv1D)            (None, 21, 100)           45100     \n",
            "_________________________________________________________________\n",
            "max_pooling1d_3 (MaxPooling1 (None, 10, 100)           0         \n",
            "_________________________________________________________________\n",
            "dense_1 (Dense)              (None, 10, 50)            5050      \n",
            "_________________________________________________________________\n",
            "flatten_1 (Flatten)          (None, 500)               0         \n",
            "_________________________________________________________________\n",
            "dense_2 (Dense)              (None, 10)                5010      \n",
            "=================================================================\n",
            "Total params: 146,110\n",
            "Trainable params: 146,110\n",
            "Non-trainable params: 0\n",
            "_________________________________________________________________\n",
            "None\n"
          ],
          "name": "stdout"
        }
      ]
    },
    {
      "metadata": {
        "id": "DeXfbk3Bo_-I",
        "colab_type": "code",
        "colab": {}
      },
      "cell_type": "code",
      "source": [
        "cleanY = np.array(cleanY)\n",
        "cleanY = cleanY[s]\n",
        "import pandas as pd\n",
        "s = pd.Series(np.unique(cleanY))\n",
        "\n",
        "tags = (pd.get_dummies(s)).columns.values\n",
        "onehot = np.array(pd.get_dummies(s))"
      ],
      "execution_count": 0,
      "outputs": []
    },
    {
      "metadata": {
        "id": "IiGKsu9voG6Z",
        "colab_type": "code",
        "colab": {}
      },
      "cell_type": "code",
      "source": [
        "# u = np.unique(cleanY)\n",
        "labls = np.zeros((cleanY.shape[0],10))\n",
        "for i in range(len(tags)):\n",
        "  labls[cleanY == tags[i]] = onehot[i]"
      ],
      "execution_count": 0,
      "outputs": []
    },
    {
      "metadata": {
        "id": "fKwXeR1RyB_k",
        "colab_type": "code",
        "colab": {
          "base_uri": "https://localhost:8080/",
          "height": 153
        },
        "outputId": "6373b526-fd0f-417e-91a2-3fe1acaa47bd"
      },
      "cell_type": "code",
      "source": [
        "cleanY[:5],labls[:5]"
      ],
      "execution_count": 38,
      "outputs": [
        {
          "output_type": "execute_result",
          "data": {
            "text/plain": [
              "(array(['first party collection/use', 'first party collection/use',\n",
              "        'first party collection/use', 'user access, edit and deletion',\n",
              "        'other'], dtype='|S36'),\n",
              " array([[0., 0., 0., 1., 0., 0., 0., 0., 0., 0.],\n",
              "        [0., 0., 0., 1., 0., 0., 0., 0., 0., 0.],\n",
              "        [0., 0., 0., 1., 0., 0., 0., 0., 0., 0.],\n",
              "        [0., 0., 0., 0., 0., 0., 0., 0., 1., 0.],\n",
              "        [0., 0., 0., 0., 0., 1., 0., 0., 0., 0.]]))"
            ]
          },
          "metadata": {
            "tags": []
          },
          "execution_count": 38
        }
      ]
    },
    {
      "metadata": {
        "id": "3h-Ay6IX4CZq",
        "colab_type": "code",
        "colab": {}
      },
      "cell_type": "code",
      "source": [
        "# from sklearn.utils import shuffle\n",
        "# secVectors, labls = shuffle(secVectors, labls, random_state=0)"
      ],
      "execution_count": 0,
      "outputs": []
    },
    {
      "metadata": {
        "id": "keei-9TMTiQq",
        "colab_type": "code",
        "outputId": "f3634c5f-4e6b-4a8d-f28a-73f5cf26d212",
        "colab": {
          "base_uri": "https://localhost:8080/",
          "height": 374
        }
      },
      "cell_type": "code",
      "source": [
        "model.fit(x = np.copy(secVectors)[:trainsize],y= np.copy(labls)[:trainsize], batch_size=200, epochs=10,shuffle=True)"
      ],
      "execution_count": 39,
      "outputs": [
        {
          "output_type": "stream",
          "text": [
            "Epoch 1/10\n",
            "3550/3550 [==============================] - 3s 888us/step - loss: 0.1038 - acc: 0.5572\n",
            "Epoch 2/10\n",
            "3550/3550 [==============================] - 0s 105us/step - loss: 0.0828 - acc: 0.5862\n",
            "Epoch 3/10\n",
            "3550/3550 [==============================] - 0s 104us/step - loss: 0.0828 - acc: 0.5862\n",
            "Epoch 4/10\n",
            "3550/3550 [==============================] - 0s 104us/step - loss: 0.0828 - acc: 0.5862\n",
            "Epoch 5/10\n",
            "3550/3550 [==============================] - 0s 104us/step - loss: 0.0828 - acc: 0.5862\n",
            "Epoch 6/10\n",
            "3550/3550 [==============================] - 0s 103us/step - loss: 0.0828 - acc: 0.5862\n",
            "Epoch 7/10\n",
            "3550/3550 [==============================] - 0s 103us/step - loss: 0.0828 - acc: 0.5862\n",
            "Epoch 8/10\n",
            "3550/3550 [==============================] - 0s 104us/step - loss: 0.0828 - acc: 0.5862\n",
            "Epoch 9/10\n",
            "3550/3550 [==============================] - 0s 104us/step - loss: 0.0828 - acc: 0.5862\n",
            "Epoch 10/10\n",
            "3550/3550 [==============================] - 0s 104us/step - loss: 0.0828 - acc: 0.5862\n"
          ],
          "name": "stdout"
        },
        {
          "output_type": "execute_result",
          "data": {
            "text/plain": [
              "<keras.callbacks.History at 0x7f3782e98e50>"
            ]
          },
          "metadata": {
            "tags": []
          },
          "execution_count": 39
        }
      ]
    },
    {
      "metadata": {
        "id": "L7rk0nLBUrWh",
        "colab_type": "code",
        "outputId": "c63e623a-5df4-4a88-e668-4d565e932867",
        "colab": {
          "base_uri": "https://localhost:8080/",
          "height": 136
        }
      },
      "cell_type": "code",
      "source": [
        "\n",
        "p=model.predict(np.copy(secVectors)[trainsize:])\n",
        "print (p)\n"
      ],
      "execution_count": 40,
      "outputs": [
        {
          "output_type": "stream",
          "text": [
            "[[0. 0. 0. ... 0. 0. 0.]\n",
            " [0. 0. 0. ... 0. 0. 0.]\n",
            " [0. 0. 0. ... 0. 0. 0.]\n",
            " ...\n",
            " [0. 0. 0. ... 0. 0. 0.]\n",
            " [0. 0. 0. ... 0. 0. 0.]\n",
            " [0. 0. 0. ... 0. 0. 0.]]\n"
          ],
          "name": "stdout"
        }
      ]
    },
    {
      "metadata": {
        "id": "7uq5Z8Et2Dfg",
        "colab_type": "code",
        "colab": {
          "base_uri": "https://localhost:8080/",
          "height": 34
        },
        "outputId": "a7aba40b-9bc7-49cd-d411-ca4813214759"
      },
      "cell_type": "code",
      "source": [
        "p[13]"
      ],
      "execution_count": 41,
      "outputs": [
        {
          "output_type": "execute_result",
          "data": {
            "text/plain": [
              "array([0., 0., 0., 1., 0., 0., 0., 0., 0., 0.], dtype=float32)"
            ]
          },
          "metadata": {
            "tags": []
          },
          "execution_count": 41
        }
      ]
    },
    {
      "metadata": {
        "id": "HBZIEF_BbDAs",
        "colab_type": "code",
        "colab": {}
      },
      "cell_type": "code",
      "source": [
        "theek = 0\n",
        "for i in range(len(p)):\n",
        "  if np.all(np.array(p[i]) ==np.copy(labls)[trainsize+i]):\n",
        "    theek +=1\n"
      ],
      "execution_count": 0,
      "outputs": []
    },
    {
      "metadata": {
        "id": "K769U_nW1l8R",
        "colab_type": "code",
        "colab": {
          "base_uri": "https://localhost:8080/",
          "height": 34
        },
        "outputId": "489c4f85-b737-4ed9-8cb0-96efe80483db"
      },
      "cell_type": "code",
      "source": [
        "(theek)/float(np.shape(cleanY)[0] - trainsize) "
      ],
      "execution_count": 44,
      "outputs": [
        {
          "output_type": "execute_result",
          "data": {
            "text/plain": [
              "0.612331081081081"
            ]
          },
          "metadata": {
            "tags": []
          },
          "execution_count": 44
        }
      ]
    }
  ]
}